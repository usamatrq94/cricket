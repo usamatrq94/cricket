{
 "cells": [
  {
   "cell_type": "code",
   "execution_count": 1,
   "metadata": {},
   "outputs": [],
   "source": [
    "import pandas as pd\n",
    "import numpy as np\n",
    "import json\n",
    "import os\n",
    "from scipy.stats import chi2_contingency\n",
    "\n",
    "import matplotlib.pyplot as plt\n",
    "\n",
    "import warnings\n",
    "warnings.filterwarnings('ignore')\n",
    "\n",
    "pd.set_option('display.max_columns', None)\n",
    "\n",
    "from player_performance import PlayerPerformance\n",
    "\n",
    "%load_ext autoreload\n",
    "%autoreload 2\n"
   ]
  },
  {
   "cell_type": "code",
   "execution_count": 2,
   "metadata": {},
   "outputs": [
    {
     "name": "stdout",
     "output_type": "stream",
     "text": [
      "Faulty file -> odis_male_csv2/README.txt\n"
     ]
    }
   ],
   "source": [
    "stats = PlayerPerformance(mark_fab_four=False)"
   ]
  },
  {
   "cell_type": "code",
   "execution_count": null,
   "metadata": {},
   "outputs": [],
   "source": [
    "plyer_stats=stats.player_luck_comparision(n=50)"
   ]
  },
  {
   "cell_type": "code",
   "execution_count": null,
   "metadata": {},
   "outputs": [
    {
     "data": {
      "application/vnd.plotly.v1+json": {
       "config": {
        "plotlyServerURL": "https://plot.ly"
       },
       "data": [
        {
         "hovertemplate": "<b>%{hovertext}</b><br><br>marked=marked<br>century_accuracy=%{x}<br>century_precision=%{y}<br>sample=%{marker.size}<extra></extra>",
         "hovertext": [
          "SR Tendulkar",
          "SR Tendulkar"
         ],
         "legendgroup": "marked",
         "marker": {
          "color": "blue",
          "size": [
           143,
           143
          ],
          "sizemode": "area",
          "sizeref": 0.7025,
          "symbol": "circle"
         },
         "mode": "markers",
         "name": "marked",
         "orientation": "v",
         "showlegend": true,
         "type": "scatter",
         "x": [
          0.3706293706293706,
          0.3706293706293706
         ],
         "xaxis": "x",
         "y": [
          0.6981132075471698,
          0.6981132075471698
         ],
         "yaxis": "y"
        },
        {
         "hovertemplate": "<b>%{hovertext}</b><br><br>marked=unmarked<br>century_accuracy=%{x}<br>century_precision=%{y}<br>sample=%{marker.size}<extra></extra>",
         "hovertext": [
          "V Kohli",
          "KC Sangakkara",
          "MS Dhoni",
          "RG Sharma",
          "AB de Villiers",
          "TM Dilshan",
          "LRPL Taylor",
          "DPMD Jayawardene",
          "Tamim Iqbal",
          "HM Amla",
          "MJ Guptill",
          "EJG Morgan",
          "MJ Clarke",
          "Mushfiqur Rahim",
          "RT Ponting",
          "Yuvraj Singh",
          "S Dhawan",
          "Shakib Al Hasan",
          "KS Williamson",
          "WU Tharanga",
          "CH Gayle",
          "Mohammad Hafeez",
          "JE Root",
          "Shoaib Malik",
          "DA Warner",
          "Q de Kock",
          "AD Mathews",
          "V Sehwag",
          "SK Raina",
          "BRM Taylor",
          "F du Plessis",
          "SR Watson",
          "IR Bell",
          "GC Smith",
          "AJ Finch",
          "BB McCullum",
          "MEK Hussey",
          "Babar Azam",
          "G Gambhir",
          "SPD Smith",
          "JH Kallis",
          "JP Duminy",
          "Younis Khan",
          "SD Hope",
          "Mahmudullah",
          "Misbah-ul-Haq",
          "JC Buttler",
          "Mohammad Yousuf",
          "PR Stirling"
         ],
         "legendgroup": "unmarked",
         "marker": {
          "color": "red",
          "size": [
           264,
           281,
           278,
           235,
           209,
           260,
           212,
           261,
           223,
           175,
           193,
           19,
           199,
           220,
           189,
           205,
           164,
           203,
           154,
           206,
           199,
           205,
           147,
           207,
           139,
           140,
           187,
           157,
           190,
           170,
           135,
           150,
           153,
           151,
           141,
           187,
           149,
           99,
           134,
           126,
           128,
           173,
           169,
           111,
           183,
           136,
           139,
           125,
           125
          ],
          "sizemode": "area",
          "sizeref": 0.7025,
          "symbol": "circle"
         },
         "mode": "markers",
         "name": "unmarked",
         "orientation": "v",
         "showlegend": true,
         "type": "scatter",
         "x": [
          0.42045454545454547,
          0.35587188612099646,
          0.28776978417266186,
          0.3276595744680851,
          0.36363636363636365,
          0.2423076923076923,
          0.32075471698113206,
          0.23754789272030652,
          0.3094170403587444,
          0.3657142857142857,
          0.29015544041450775,
          0.05263157894736842,
          0.2964824120603015,
          0.2409090909090909,
          0.31216931216931215,
          0.25853658536585367,
          0.34146341463414637,
          0.29064039408866993,
          0.35714285714285715,
          0.24271844660194175,
          0.23115577889447236,
          0.23414634146341465,
          0.35374149659863946,
          0.20772946859903382,
          0.33093525179856115,
          0.32857142857142857,
          0.22459893048128343,
          0.2229299363057325,
          0.21578947368421053,
          0.23529411764705882,
          0.34074074074074073,
          0.26666666666666666,
          0.24836601307189543,
          0.2913907284768212,
          0.3262411347517731,
          0.17647058823529413,
          0.2684563758389262,
          0.4444444444444444,
          0.3208955223880597,
          0.3253968253968254,
          0.359375,
          0.17341040462427745,
          0.22485207100591717,
          0.34234234234234234,
          0.16393442622950818,
          0.2867647058823529,
          0.2517985611510791,
          0.312,
          0.272
         ],
         "xaxis": "x",
         "y": [
          0.7207207207207207,
          0.65,
          0.7,
          0.7012987012987013,
          0.7631578947368421,
          0.7301587301587301,
          0.6764705882352942,
          0.6290322580645161,
          0.6376811594202898,
          0.796875,
          0.7857142857142857,
          1,
          0.7966101694915254,
          0.5471698113207547,
          0.8305084745762712,
          0.7735849056603774,
          0.75,
          0.5254237288135594,
          0.6363636363636364,
          0.62,
          0.5652173913043478,
          0.6875,
          0.6346153846153846,
          0.5581395348837209,
          0.717391304347826,
          0.8478260869565217,
          0.47619047619047616,
          0.6857142857142857,
          0.8292682926829268,
          0.2,
          0.6739130434782609,
          0.675,
          0.7105263157894737,
          0.6590909090909091,
          0.6086956521739131,
          0.6060606060606061,
          0.65,
          0.75,
          0.7441860465116279,
          0.7073170731707317,
          0.717391304347826,
          0.8333333333333334,
          0.6842105263157895,
          0.4473684210526316,
          0.5666666666666667,
          0.5897435897435898,
          0.7142857142857143,
          0.6666666666666666,
          0.5294117647058824
         ],
         "yaxis": "y"
        }
       ],
       "layout": {
        "legend": {
         "itemsizing": "constant",
         "title": {
          "text": "marked"
         },
         "tracegroupgap": 0
        },
        "margin": {
         "t": 60
        },
        "template": {
         "data": {
          "bar": [
           {
            "error_x": {
             "color": "rgb(36,36,36)"
            },
            "error_y": {
             "color": "rgb(36,36,36)"
            },
            "marker": {
             "line": {
              "color": "white",
              "width": 0.5
             },
             "pattern": {
              "fillmode": "overlay",
              "size": 10,
              "solidity": 0.2
             }
            },
            "type": "bar"
           }
          ],
          "barpolar": [
           {
            "marker": {
             "line": {
              "color": "white",
              "width": 0.5
             },
             "pattern": {
              "fillmode": "overlay",
              "size": 10,
              "solidity": 0.2
             }
            },
            "type": "barpolar"
           }
          ],
          "carpet": [
           {
            "aaxis": {
             "endlinecolor": "rgb(36,36,36)",
             "gridcolor": "white",
             "linecolor": "white",
             "minorgridcolor": "white",
             "startlinecolor": "rgb(36,36,36)"
            },
            "baxis": {
             "endlinecolor": "rgb(36,36,36)",
             "gridcolor": "white",
             "linecolor": "white",
             "minorgridcolor": "white",
             "startlinecolor": "rgb(36,36,36)"
            },
            "type": "carpet"
           }
          ],
          "choropleth": [
           {
            "colorbar": {
             "outlinewidth": 1,
             "tickcolor": "rgb(36,36,36)",
             "ticks": "outside"
            },
            "type": "choropleth"
           }
          ],
          "contour": [
           {
            "colorbar": {
             "outlinewidth": 1,
             "tickcolor": "rgb(36,36,36)",
             "ticks": "outside"
            },
            "colorscale": [
             [
              0,
              "#440154"
             ],
             [
              0.1111111111111111,
              "#482878"
             ],
             [
              0.2222222222222222,
              "#3e4989"
             ],
             [
              0.3333333333333333,
              "#31688e"
             ],
             [
              0.4444444444444444,
              "#26828e"
             ],
             [
              0.5555555555555556,
              "#1f9e89"
             ],
             [
              0.6666666666666666,
              "#35b779"
             ],
             [
              0.7777777777777778,
              "#6ece58"
             ],
             [
              0.8888888888888888,
              "#b5de2b"
             ],
             [
              1,
              "#fde725"
             ]
            ],
            "type": "contour"
           }
          ],
          "contourcarpet": [
           {
            "colorbar": {
             "outlinewidth": 1,
             "tickcolor": "rgb(36,36,36)",
             "ticks": "outside"
            },
            "type": "contourcarpet"
           }
          ],
          "heatmap": [
           {
            "colorbar": {
             "outlinewidth": 1,
             "tickcolor": "rgb(36,36,36)",
             "ticks": "outside"
            },
            "colorscale": [
             [
              0,
              "#440154"
             ],
             [
              0.1111111111111111,
              "#482878"
             ],
             [
              0.2222222222222222,
              "#3e4989"
             ],
             [
              0.3333333333333333,
              "#31688e"
             ],
             [
              0.4444444444444444,
              "#26828e"
             ],
             [
              0.5555555555555556,
              "#1f9e89"
             ],
             [
              0.6666666666666666,
              "#35b779"
             ],
             [
              0.7777777777777778,
              "#6ece58"
             ],
             [
              0.8888888888888888,
              "#b5de2b"
             ],
             [
              1,
              "#fde725"
             ]
            ],
            "type": "heatmap"
           }
          ],
          "heatmapgl": [
           {
            "colorbar": {
             "outlinewidth": 1,
             "tickcolor": "rgb(36,36,36)",
             "ticks": "outside"
            },
            "colorscale": [
             [
              0,
              "#440154"
             ],
             [
              0.1111111111111111,
              "#482878"
             ],
             [
              0.2222222222222222,
              "#3e4989"
             ],
             [
              0.3333333333333333,
              "#31688e"
             ],
             [
              0.4444444444444444,
              "#26828e"
             ],
             [
              0.5555555555555556,
              "#1f9e89"
             ],
             [
              0.6666666666666666,
              "#35b779"
             ],
             [
              0.7777777777777778,
              "#6ece58"
             ],
             [
              0.8888888888888888,
              "#b5de2b"
             ],
             [
              1,
              "#fde725"
             ]
            ],
            "type": "heatmapgl"
           }
          ],
          "histogram": [
           {
            "marker": {
             "line": {
              "color": "white",
              "width": 0.6
             }
            },
            "type": "histogram"
           }
          ],
          "histogram2d": [
           {
            "colorbar": {
             "outlinewidth": 1,
             "tickcolor": "rgb(36,36,36)",
             "ticks": "outside"
            },
            "colorscale": [
             [
              0,
              "#440154"
             ],
             [
              0.1111111111111111,
              "#482878"
             ],
             [
              0.2222222222222222,
              "#3e4989"
             ],
             [
              0.3333333333333333,
              "#31688e"
             ],
             [
              0.4444444444444444,
              "#26828e"
             ],
             [
              0.5555555555555556,
              "#1f9e89"
             ],
             [
              0.6666666666666666,
              "#35b779"
             ],
             [
              0.7777777777777778,
              "#6ece58"
             ],
             [
              0.8888888888888888,
              "#b5de2b"
             ],
             [
              1,
              "#fde725"
             ]
            ],
            "type": "histogram2d"
           }
          ],
          "histogram2dcontour": [
           {
            "colorbar": {
             "outlinewidth": 1,
             "tickcolor": "rgb(36,36,36)",
             "ticks": "outside"
            },
            "colorscale": [
             [
              0,
              "#440154"
             ],
             [
              0.1111111111111111,
              "#482878"
             ],
             [
              0.2222222222222222,
              "#3e4989"
             ],
             [
              0.3333333333333333,
              "#31688e"
             ],
             [
              0.4444444444444444,
              "#26828e"
             ],
             [
              0.5555555555555556,
              "#1f9e89"
             ],
             [
              0.6666666666666666,
              "#35b779"
             ],
             [
              0.7777777777777778,
              "#6ece58"
             ],
             [
              0.8888888888888888,
              "#b5de2b"
             ],
             [
              1,
              "#fde725"
             ]
            ],
            "type": "histogram2dcontour"
           }
          ],
          "mesh3d": [
           {
            "colorbar": {
             "outlinewidth": 1,
             "tickcolor": "rgb(36,36,36)",
             "ticks": "outside"
            },
            "type": "mesh3d"
           }
          ],
          "parcoords": [
           {
            "line": {
             "colorbar": {
              "outlinewidth": 1,
              "tickcolor": "rgb(36,36,36)",
              "ticks": "outside"
             }
            },
            "type": "parcoords"
           }
          ],
          "pie": [
           {
            "automargin": true,
            "type": "pie"
           }
          ],
          "scatter": [
           {
            "fillpattern": {
             "fillmode": "overlay",
             "size": 10,
             "solidity": 0.2
            },
            "type": "scatter"
           }
          ],
          "scatter3d": [
           {
            "line": {
             "colorbar": {
              "outlinewidth": 1,
              "tickcolor": "rgb(36,36,36)",
              "ticks": "outside"
             }
            },
            "marker": {
             "colorbar": {
              "outlinewidth": 1,
              "tickcolor": "rgb(36,36,36)",
              "ticks": "outside"
             }
            },
            "type": "scatter3d"
           }
          ],
          "scattercarpet": [
           {
            "marker": {
             "colorbar": {
              "outlinewidth": 1,
              "tickcolor": "rgb(36,36,36)",
              "ticks": "outside"
             }
            },
            "type": "scattercarpet"
           }
          ],
          "scattergeo": [
           {
            "marker": {
             "colorbar": {
              "outlinewidth": 1,
              "tickcolor": "rgb(36,36,36)",
              "ticks": "outside"
             }
            },
            "type": "scattergeo"
           }
          ],
          "scattergl": [
           {
            "marker": {
             "colorbar": {
              "outlinewidth": 1,
              "tickcolor": "rgb(36,36,36)",
              "ticks": "outside"
             }
            },
            "type": "scattergl"
           }
          ],
          "scattermapbox": [
           {
            "marker": {
             "colorbar": {
              "outlinewidth": 1,
              "tickcolor": "rgb(36,36,36)",
              "ticks": "outside"
             }
            },
            "type": "scattermapbox"
           }
          ],
          "scatterpolar": [
           {
            "marker": {
             "colorbar": {
              "outlinewidth": 1,
              "tickcolor": "rgb(36,36,36)",
              "ticks": "outside"
             }
            },
            "type": "scatterpolar"
           }
          ],
          "scatterpolargl": [
           {
            "marker": {
             "colorbar": {
              "outlinewidth": 1,
              "tickcolor": "rgb(36,36,36)",
              "ticks": "outside"
             }
            },
            "type": "scatterpolargl"
           }
          ],
          "scatterternary": [
           {
            "marker": {
             "colorbar": {
              "outlinewidth": 1,
              "tickcolor": "rgb(36,36,36)",
              "ticks": "outside"
             }
            },
            "type": "scatterternary"
           }
          ],
          "surface": [
           {
            "colorbar": {
             "outlinewidth": 1,
             "tickcolor": "rgb(36,36,36)",
             "ticks": "outside"
            },
            "colorscale": [
             [
              0,
              "#440154"
             ],
             [
              0.1111111111111111,
              "#482878"
             ],
             [
              0.2222222222222222,
              "#3e4989"
             ],
             [
              0.3333333333333333,
              "#31688e"
             ],
             [
              0.4444444444444444,
              "#26828e"
             ],
             [
              0.5555555555555556,
              "#1f9e89"
             ],
             [
              0.6666666666666666,
              "#35b779"
             ],
             [
              0.7777777777777778,
              "#6ece58"
             ],
             [
              0.8888888888888888,
              "#b5de2b"
             ],
             [
              1,
              "#fde725"
             ]
            ],
            "type": "surface"
           }
          ],
          "table": [
           {
            "cells": {
             "fill": {
              "color": "rgb(237,237,237)"
             },
             "line": {
              "color": "white"
             }
            },
            "header": {
             "fill": {
              "color": "rgb(217,217,217)"
             },
             "line": {
              "color": "white"
             }
            },
            "type": "table"
           }
          ]
         },
         "layout": {
          "annotationdefaults": {
           "arrowhead": 0,
           "arrowwidth": 1
          },
          "autotypenumbers": "strict",
          "coloraxis": {
           "colorbar": {
            "outlinewidth": 1,
            "tickcolor": "rgb(36,36,36)",
            "ticks": "outside"
           }
          },
          "colorscale": {
           "diverging": [
            [
             0,
             "rgb(103,0,31)"
            ],
            [
             0.1,
             "rgb(178,24,43)"
            ],
            [
             0.2,
             "rgb(214,96,77)"
            ],
            [
             0.3,
             "rgb(244,165,130)"
            ],
            [
             0.4,
             "rgb(253,219,199)"
            ],
            [
             0.5,
             "rgb(247,247,247)"
            ],
            [
             0.6,
             "rgb(209,229,240)"
            ],
            [
             0.7,
             "rgb(146,197,222)"
            ],
            [
             0.8,
             "rgb(67,147,195)"
            ],
            [
             0.9,
             "rgb(33,102,172)"
            ],
            [
             1,
             "rgb(5,48,97)"
            ]
           ],
           "sequential": [
            [
             0,
             "#440154"
            ],
            [
             0.1111111111111111,
             "#482878"
            ],
            [
             0.2222222222222222,
             "#3e4989"
            ],
            [
             0.3333333333333333,
             "#31688e"
            ],
            [
             0.4444444444444444,
             "#26828e"
            ],
            [
             0.5555555555555556,
             "#1f9e89"
            ],
            [
             0.6666666666666666,
             "#35b779"
            ],
            [
             0.7777777777777778,
             "#6ece58"
            ],
            [
             0.8888888888888888,
             "#b5de2b"
            ],
            [
             1,
             "#fde725"
            ]
           ],
           "sequentialminus": [
            [
             0,
             "#440154"
            ],
            [
             0.1111111111111111,
             "#482878"
            ],
            [
             0.2222222222222222,
             "#3e4989"
            ],
            [
             0.3333333333333333,
             "#31688e"
            ],
            [
             0.4444444444444444,
             "#26828e"
            ],
            [
             0.5555555555555556,
             "#1f9e89"
            ],
            [
             0.6666666666666666,
             "#35b779"
            ],
            [
             0.7777777777777778,
             "#6ece58"
            ],
            [
             0.8888888888888888,
             "#b5de2b"
            ],
            [
             1,
             "#fde725"
            ]
           ]
          },
          "colorway": [
           "#1F77B4",
           "#FF7F0E",
           "#2CA02C",
           "#D62728",
           "#9467BD",
           "#8C564B",
           "#E377C2",
           "#7F7F7F",
           "#BCBD22",
           "#17BECF"
          ],
          "font": {
           "color": "rgb(36,36,36)"
          },
          "geo": {
           "bgcolor": "white",
           "lakecolor": "white",
           "landcolor": "white",
           "showlakes": true,
           "showland": true,
           "subunitcolor": "white"
          },
          "hoverlabel": {
           "align": "left"
          },
          "hovermode": "closest",
          "mapbox": {
           "style": "light"
          },
          "paper_bgcolor": "white",
          "plot_bgcolor": "white",
          "polar": {
           "angularaxis": {
            "gridcolor": "rgb(232,232,232)",
            "linecolor": "rgb(36,36,36)",
            "showgrid": false,
            "showline": true,
            "ticks": "outside"
           },
           "bgcolor": "white",
           "radialaxis": {
            "gridcolor": "rgb(232,232,232)",
            "linecolor": "rgb(36,36,36)",
            "showgrid": false,
            "showline": true,
            "ticks": "outside"
           }
          },
          "scene": {
           "xaxis": {
            "backgroundcolor": "white",
            "gridcolor": "rgb(232,232,232)",
            "gridwidth": 2,
            "linecolor": "rgb(36,36,36)",
            "showbackground": true,
            "showgrid": false,
            "showline": true,
            "ticks": "outside",
            "zeroline": false,
            "zerolinecolor": "rgb(36,36,36)"
           },
           "yaxis": {
            "backgroundcolor": "white",
            "gridcolor": "rgb(232,232,232)",
            "gridwidth": 2,
            "linecolor": "rgb(36,36,36)",
            "showbackground": true,
            "showgrid": false,
            "showline": true,
            "ticks": "outside",
            "zeroline": false,
            "zerolinecolor": "rgb(36,36,36)"
           },
           "zaxis": {
            "backgroundcolor": "white",
            "gridcolor": "rgb(232,232,232)",
            "gridwidth": 2,
            "linecolor": "rgb(36,36,36)",
            "showbackground": true,
            "showgrid": false,
            "showline": true,
            "ticks": "outside",
            "zeroline": false,
            "zerolinecolor": "rgb(36,36,36)"
           }
          },
          "shapedefaults": {
           "fillcolor": "black",
           "line": {
            "width": 0
           },
           "opacity": 0.3
          },
          "ternary": {
           "aaxis": {
            "gridcolor": "rgb(232,232,232)",
            "linecolor": "rgb(36,36,36)",
            "showgrid": false,
            "showline": true,
            "ticks": "outside"
           },
           "baxis": {
            "gridcolor": "rgb(232,232,232)",
            "linecolor": "rgb(36,36,36)",
            "showgrid": false,
            "showline": true,
            "ticks": "outside"
           },
           "bgcolor": "white",
           "caxis": {
            "gridcolor": "rgb(232,232,232)",
            "linecolor": "rgb(36,36,36)",
            "showgrid": false,
            "showline": true,
            "ticks": "outside"
           }
          },
          "title": {
           "x": 0.05
          },
          "xaxis": {
           "automargin": true,
           "gridcolor": "rgb(232,232,232)",
           "linecolor": "rgb(36,36,36)",
           "showgrid": false,
           "showline": true,
           "ticks": "outside",
           "title": {
            "standoff": 15
           },
           "zeroline": false,
           "zerolinecolor": "rgb(36,36,36)"
          },
          "yaxis": {
           "automargin": true,
           "gridcolor": "rgb(232,232,232)",
           "linecolor": "rgb(36,36,36)",
           "showgrid": false,
           "showline": true,
           "ticks": "outside",
           "title": {
            "standoff": 15
           },
           "zeroline": false,
           "zerolinecolor": "rgb(36,36,36)"
          }
         }
        },
        "title": {
         "text": "One Day Internations Cricket from 2002 - 2023",
         "x": 0.5,
         "xanchor": "center",
         "y": 0.95,
         "yanchor": "top"
        },
        "xaxis": {
         "anchor": "y",
         "domain": [
          0,
          1
         ],
         "title": {
          "text": "century_accuracy"
         }
        },
        "yaxis": {
         "anchor": "x",
         "domain": [
          0,
          1
         ],
         "title": {
          "text": "century_precision"
         }
        }
       }
      }
     },
     "metadata": {},
     "output_type": "display_data"
    }
   ],
   "source": [
    "import plotly.express as px\n",
    "\n",
    "fig = px.scatter(\n",
    "    plyer_stats, \n",
    "    x=\"century_accuracy\", \n",
    "    y=\"century_precision\", \n",
    "    size=\"sample\", \n",
    "    hover_name=\"player_name\", \n",
    "    color=\"marked\",\n",
    "    color_discrete_map={'unmarked': 'red', 'marked': 'blue', \"fab_four\": \"green\"},\n",
    "    template=\"simple_white\",\n",
    "    )\n",
    "\n",
    "fig.update_layout(\n",
    "    title={\n",
    "        'text': \"One Day Internations Cricket from 2002 - 2023\",\n",
    "        'y':0.95,\n",
    "        'x':0.5,\n",
    "        'xanchor': 'center',\n",
    "        'yanchor': 'top'})\n",
    "\n",
    "fig.show()"
   ]
  },
  {
   "cell_type": "code",
   "execution_count": 4,
   "metadata": {},
   "outputs": [
    {
     "data": {
      "text/html": [
       "<div>\n",
       "<style scoped>\n",
       "    .dataframe tbody tr th:only-of-type {\n",
       "        vertical-align: middle;\n",
       "    }\n",
       "\n",
       "    .dataframe tbody tr th {\n",
       "        vertical-align: top;\n",
       "    }\n",
       "\n",
       "    .dataframe thead th {\n",
       "        text-align: right;\n",
       "    }\n",
       "</style>\n",
       "<table border=\"1\" class=\"dataframe\">\n",
       "  <thead>\n",
       "    <tr style=\"text-align: right;\">\n",
       "      <th></th>\n",
       "      <th>match_id</th>\n",
       "      <th>season</th>\n",
       "      <th>start_date</th>\n",
       "      <th>venue</th>\n",
       "      <th>innings</th>\n",
       "      <th>ball</th>\n",
       "      <th>batting_team</th>\n",
       "      <th>bowling_team</th>\n",
       "      <th>striker</th>\n",
       "      <th>non_striker</th>\n",
       "      <th>bowler</th>\n",
       "      <th>runs_off_bat</th>\n",
       "      <th>extras</th>\n",
       "      <th>wides</th>\n",
       "      <th>noballs</th>\n",
       "      <th>byes</th>\n",
       "      <th>legbyes</th>\n",
       "      <th>penalty</th>\n",
       "      <th>wicket_type</th>\n",
       "      <th>player_dismissed</th>\n",
       "      <th>other_wicket_type</th>\n",
       "      <th>other_player_dismissed</th>\n",
       "      <th>over</th>\n",
       "      <th>ball_no</th>\n",
       "      <th>total_runs_gained</th>\n",
       "      <th>score_board</th>\n",
       "      <th>dismissal</th>\n",
       "      <th>wickets_lost</th>\n",
       "      <th>team_score</th>\n",
       "      <th>five_wickets_lost_score</th>\n",
       "      <th>first_10_over_wickets_lost</th>\n",
       "      <th>team_won</th>\n",
       "    </tr>\n",
       "  </thead>\n",
       "  <tbody>\n",
       "    <tr>\n",
       "      <th>0</th>\n",
       "      <td>247461</td>\n",
       "      <td>2006/07</td>\n",
       "      <td>2007-03-15</td>\n",
       "      <td>Sabina Park, Kingston</td>\n",
       "      <td>1</td>\n",
       "      <td>0.1</td>\n",
       "      <td>Ireland</td>\n",
       "      <td>Zimbabwe</td>\n",
       "      <td>WTS Porterfield</td>\n",
       "      <td>JP Bray</td>\n",
       "      <td>CB Mpofu</td>\n",
       "      <td>0</td>\n",
       "      <td>0</td>\n",
       "      <td>0</td>\n",
       "      <td>0</td>\n",
       "      <td>NaN</td>\n",
       "      <td>0</td>\n",
       "      <td>0</td>\n",
       "      <td>NaN</td>\n",
       "      <td>NaN</td>\n",
       "      <td>NaN</td>\n",
       "      <td>NaN</td>\n",
       "      <td>0</td>\n",
       "      <td>1</td>\n",
       "      <td>0</td>\n",
       "      <td>0</td>\n",
       "      <td>False</td>\n",
       "      <td>0</td>\n",
       "      <td>221</td>\n",
       "      <td>89</td>\n",
       "      <td>2</td>\n",
       "      <td>True</td>\n",
       "    </tr>\n",
       "    <tr>\n",
       "      <th>300</th>\n",
       "      <td>247465</td>\n",
       "      <td>2006/07</td>\n",
       "      <td>2007-03-17</td>\n",
       "      <td>Sabina Park, Kingston</td>\n",
       "      <td>2</td>\n",
       "      <td>0.1</td>\n",
       "      <td>Ireland</td>\n",
       "      <td>Pakistan</td>\n",
       "      <td>JP Bray</td>\n",
       "      <td>WTS Porterfield</td>\n",
       "      <td>Umar Gul</td>\n",
       "      <td>1</td>\n",
       "      <td>0</td>\n",
       "      <td>0</td>\n",
       "      <td>0</td>\n",
       "      <td>NaN</td>\n",
       "      <td>0</td>\n",
       "      <td>0</td>\n",
       "      <td>NaN</td>\n",
       "      <td>NaN</td>\n",
       "      <td>NaN</td>\n",
       "      <td>NaN</td>\n",
       "      <td>0</td>\n",
       "      <td>1</td>\n",
       "      <td>1</td>\n",
       "      <td>1</td>\n",
       "      <td>False</td>\n",
       "      <td>0</td>\n",
       "      <td>133</td>\n",
       "      <td>108</td>\n",
       "      <td>2</td>\n",
       "      <td>True</td>\n",
       "    </tr>\n",
       "    <tr>\n",
       "      <th>0</th>\n",
       "      <td>247477</td>\n",
       "      <td>2006/07</td>\n",
       "      <td>2007-03-23</td>\n",
       "      <td>Sabina Park, Kingston</td>\n",
       "      <td>1</td>\n",
       "      <td>0.1</td>\n",
       "      <td>Ireland</td>\n",
       "      <td>West Indies</td>\n",
       "      <td>JP Bray</td>\n",
       "      <td>WTS Porterfield</td>\n",
       "      <td>JE Taylor</td>\n",
       "      <td>0</td>\n",
       "      <td>1</td>\n",
       "      <td>1</td>\n",
       "      <td>0</td>\n",
       "      <td>NaN</td>\n",
       "      <td>0</td>\n",
       "      <td>0</td>\n",
       "      <td>NaN</td>\n",
       "      <td>NaN</td>\n",
       "      <td>NaN</td>\n",
       "      <td>NaN</td>\n",
       "      <td>0</td>\n",
       "      <td>1</td>\n",
       "      <td>1</td>\n",
       "      <td>1</td>\n",
       "      <td>False</td>\n",
       "      <td>0</td>\n",
       "      <td>183</td>\n",
       "      <td>129</td>\n",
       "      <td>1</td>\n",
       "      <td>False</td>\n",
       "    </tr>\n",
       "    <tr>\n",
       "      <th>0</th>\n",
       "      <td>247484</td>\n",
       "      <td>2006/07</td>\n",
       "      <td>2007-03-30</td>\n",
       "      <td>Providence Stadium</td>\n",
       "      <td>1</td>\n",
       "      <td>0.1</td>\n",
       "      <td>England</td>\n",
       "      <td>Ireland</td>\n",
       "      <td>EC Joyce</td>\n",
       "      <td>MP Vaughan</td>\n",
       "      <td>D Langford-Smith</td>\n",
       "      <td>0</td>\n",
       "      <td>1</td>\n",
       "      <td>0</td>\n",
       "      <td>1</td>\n",
       "      <td>NaN</td>\n",
       "      <td>0</td>\n",
       "      <td>0</td>\n",
       "      <td>NaN</td>\n",
       "      <td>NaN</td>\n",
       "      <td>NaN</td>\n",
       "      <td>NaN</td>\n",
       "      <td>0</td>\n",
       "      <td>1</td>\n",
       "      <td>1</td>\n",
       "      <td>1</td>\n",
       "      <td>False</td>\n",
       "      <td>0</td>\n",
       "      <td>266</td>\n",
       "      <td>194</td>\n",
       "      <td>2</td>\n",
       "      <td>True</td>\n",
       "    </tr>\n",
       "    <tr>\n",
       "      <th>314</th>\n",
       "      <td>247484</td>\n",
       "      <td>2006/07</td>\n",
       "      <td>2007-03-30</td>\n",
       "      <td>Providence Stadium</td>\n",
       "      <td>2</td>\n",
       "      <td>0.1</td>\n",
       "      <td>Ireland</td>\n",
       "      <td>England</td>\n",
       "      <td>WTS Porterfield</td>\n",
       "      <td>JP Bray</td>\n",
       "      <td>JM Anderson</td>\n",
       "      <td>0</td>\n",
       "      <td>0</td>\n",
       "      <td>0</td>\n",
       "      <td>0</td>\n",
       "      <td>NaN</td>\n",
       "      <td>0</td>\n",
       "      <td>0</td>\n",
       "      <td>NaN</td>\n",
       "      <td>NaN</td>\n",
       "      <td>NaN</td>\n",
       "      <td>NaN</td>\n",
       "      <td>0</td>\n",
       "      <td>1</td>\n",
       "      <td>0</td>\n",
       "      <td>0</td>\n",
       "      <td>False</td>\n",
       "      <td>0</td>\n",
       "      <td>218</td>\n",
       "      <td>139</td>\n",
       "      <td>2</td>\n",
       "      <td>True</td>\n",
       "    </tr>\n",
       "    <tr>\n",
       "      <th>...</th>\n",
       "      <td>...</td>\n",
       "      <td>...</td>\n",
       "      <td>...</td>\n",
       "      <td>...</td>\n",
       "      <td>...</td>\n",
       "      <td>...</td>\n",
       "      <td>...</td>\n",
       "      <td>...</td>\n",
       "      <td>...</td>\n",
       "      <td>...</td>\n",
       "      <td>...</td>\n",
       "      <td>...</td>\n",
       "      <td>...</td>\n",
       "      <td>...</td>\n",
       "      <td>...</td>\n",
       "      <td>...</td>\n",
       "      <td>...</td>\n",
       "      <td>...</td>\n",
       "      <td>...</td>\n",
       "      <td>...</td>\n",
       "      <td>...</td>\n",
       "      <td>...</td>\n",
       "      <td>...</td>\n",
       "      <td>...</td>\n",
       "      <td>...</td>\n",
       "      <td>...</td>\n",
       "      <td>...</td>\n",
       "      <td>...</td>\n",
       "      <td>...</td>\n",
       "      <td>...</td>\n",
       "      <td>...</td>\n",
       "      <td>...</td>\n",
       "    </tr>\n",
       "    <tr>\n",
       "      <th>305</th>\n",
       "      <td>1243393</td>\n",
       "      <td>2020/21</td>\n",
       "      <td>2021-03-23</td>\n",
       "      <td>Maharashtra Cricket Association Stadium</td>\n",
       "      <td>2</td>\n",
       "      <td>0.1</td>\n",
       "      <td>England</td>\n",
       "      <td>India</td>\n",
       "      <td>JJ Roy</td>\n",
       "      <td>JM Bairstow</td>\n",
       "      <td>B Kumar</td>\n",
       "      <td>0</td>\n",
       "      <td>0</td>\n",
       "      <td>0</td>\n",
       "      <td>0</td>\n",
       "      <td>NaN</td>\n",
       "      <td>0</td>\n",
       "      <td>0</td>\n",
       "      <td>NaN</td>\n",
       "      <td>NaN</td>\n",
       "      <td>NaN</td>\n",
       "      <td>NaN</td>\n",
       "      <td>0</td>\n",
       "      <td>1</td>\n",
       "      <td>0</td>\n",
       "      <td>0</td>\n",
       "      <td>False</td>\n",
       "      <td>0</td>\n",
       "      <td>251</td>\n",
       "      <td>176</td>\n",
       "      <td>0</td>\n",
       "      <td>False</td>\n",
       "    </tr>\n",
       "    <tr>\n",
       "      <th>263</th>\n",
       "      <td>1239534</td>\n",
       "      <td>2021</td>\n",
       "      <td>2021-06-29</td>\n",
       "      <td>Riverside Ground, Chester-le-Street</td>\n",
       "      <td>2</td>\n",
       "      <td>0.1</td>\n",
       "      <td>England</td>\n",
       "      <td>Sri Lanka</td>\n",
       "      <td>JM Bairstow</td>\n",
       "      <td>LS Livingstone</td>\n",
       "      <td>PVD Chameera</td>\n",
       "      <td>4</td>\n",
       "      <td>0</td>\n",
       "      <td>0</td>\n",
       "      <td>0</td>\n",
       "      <td>NaN</td>\n",
       "      <td>0</td>\n",
       "      <td>0</td>\n",
       "      <td>NaN</td>\n",
       "      <td>NaN</td>\n",
       "      <td>NaN</td>\n",
       "      <td>NaN</td>\n",
       "      <td>0</td>\n",
       "      <td>1</td>\n",
       "      <td>4</td>\n",
       "      <td>4</td>\n",
       "      <td>False</td>\n",
       "      <td>0</td>\n",
       "      <td>189</td>\n",
       "      <td>171</td>\n",
       "      <td>3</td>\n",
       "      <td>True</td>\n",
       "    </tr>\n",
       "    <tr>\n",
       "      <th>313</th>\n",
       "      <td>1239535</td>\n",
       "      <td>2021</td>\n",
       "      <td>2021-07-01</td>\n",
       "      <td>Kennington Oval, London</td>\n",
       "      <td>2</td>\n",
       "      <td>0.1</td>\n",
       "      <td>England</td>\n",
       "      <td>Sri Lanka</td>\n",
       "      <td>JJ Roy</td>\n",
       "      <td>JM Bairstow</td>\n",
       "      <td>PVD Chameera</td>\n",
       "      <td>0</td>\n",
       "      <td>0</td>\n",
       "      <td>0</td>\n",
       "      <td>0</td>\n",
       "      <td>NaN</td>\n",
       "      <td>0</td>\n",
       "      <td>0</td>\n",
       "      <td>NaN</td>\n",
       "      <td>NaN</td>\n",
       "      <td>NaN</td>\n",
       "      <td>NaN</td>\n",
       "      <td>0</td>\n",
       "      <td>1</td>\n",
       "      <td>0</td>\n",
       "      <td>0</td>\n",
       "      <td>False</td>\n",
       "      <td>0</td>\n",
       "      <td>244</td>\n",
       "      <td>244</td>\n",
       "      <td>0</td>\n",
       "      <td>True</td>\n",
       "    </tr>\n",
       "    <tr>\n",
       "      <th>0</th>\n",
       "      <td>1281444</td>\n",
       "      <td>2022</td>\n",
       "      <td>2022-06-17</td>\n",
       "      <td>VRA Ground, Amstelveen</td>\n",
       "      <td>1</td>\n",
       "      <td>0.1</td>\n",
       "      <td>England</td>\n",
       "      <td>Netherlands</td>\n",
       "      <td>JJ Roy</td>\n",
       "      <td>PD Salt</td>\n",
       "      <td>LV van Beek</td>\n",
       "      <td>0</td>\n",
       "      <td>0</td>\n",
       "      <td>0</td>\n",
       "      <td>0</td>\n",
       "      <td>NaN</td>\n",
       "      <td>0</td>\n",
       "      <td>0</td>\n",
       "      <td>NaN</td>\n",
       "      <td>NaN</td>\n",
       "      <td>NaN</td>\n",
       "      <td>NaN</td>\n",
       "      <td>0</td>\n",
       "      <td>1</td>\n",
       "      <td>0</td>\n",
       "      <td>0</td>\n",
       "      <td>False</td>\n",
       "      <td>0</td>\n",
       "      <td>498</td>\n",
       "      <td>498</td>\n",
       "      <td>1</td>\n",
       "      <td>True</td>\n",
       "    </tr>\n",
       "    <tr>\n",
       "      <th>250</th>\n",
       "      <td>1281445</td>\n",
       "      <td>2022</td>\n",
       "      <td>2022-06-19</td>\n",
       "      <td>VRA Ground, Amstelveen</td>\n",
       "      <td>2</td>\n",
       "      <td>0.1</td>\n",
       "      <td>England</td>\n",
       "      <td>Netherlands</td>\n",
       "      <td>JJ Roy</td>\n",
       "      <td>PD Salt</td>\n",
       "      <td>LV van Beek</td>\n",
       "      <td>4</td>\n",
       "      <td>0</td>\n",
       "      <td>0</td>\n",
       "      <td>0</td>\n",
       "      <td>NaN</td>\n",
       "      <td>0</td>\n",
       "      <td>0</td>\n",
       "      <td>NaN</td>\n",
       "      <td>NaN</td>\n",
       "      <td>NaN</td>\n",
       "      <td>NaN</td>\n",
       "      <td>0</td>\n",
       "      <td>1</td>\n",
       "      <td>4</td>\n",
       "      <td>4</td>\n",
       "      <td>False</td>\n",
       "      <td>0</td>\n",
       "      <td>239</td>\n",
       "      <td>239</td>\n",
       "      <td>0</td>\n",
       "      <td>True</td>\n",
       "    </tr>\n",
       "  </tbody>\n",
       "</table>\n",
       "<p>226 rows × 32 columns</p>\n",
       "</div>"
      ],
      "text/plain": [
       "     match_id   season start_date                                    venue  \\\n",
       "0      247461  2006/07 2007-03-15                    Sabina Park, Kingston   \n",
       "300    247465  2006/07 2007-03-17                    Sabina Park, Kingston   \n",
       "0      247477  2006/07 2007-03-23                    Sabina Park, Kingston   \n",
       "0      247484  2006/07 2007-03-30                       Providence Stadium   \n",
       "314    247484  2006/07 2007-03-30                       Providence Stadium   \n",
       "..        ...      ...        ...                                      ...   \n",
       "305   1243393  2020/21 2021-03-23  Maharashtra Cricket Association Stadium   \n",
       "263   1239534     2021 2021-06-29      Riverside Ground, Chester-le-Street   \n",
       "313   1239535     2021 2021-07-01                  Kennington Oval, London   \n",
       "0     1281444     2022 2022-06-17                   VRA Ground, Amstelveen   \n",
       "250   1281445     2022 2022-06-19                   VRA Ground, Amstelveen   \n",
       "\n",
       "     innings  ball batting_team bowling_team          striker  \\\n",
       "0          1   0.1      Ireland     Zimbabwe  WTS Porterfield   \n",
       "300        2   0.1      Ireland     Pakistan          JP Bray   \n",
       "0          1   0.1      Ireland  West Indies          JP Bray   \n",
       "0          1   0.1      England      Ireland         EC Joyce   \n",
       "314        2   0.1      Ireland      England  WTS Porterfield   \n",
       "..       ...   ...          ...          ...              ...   \n",
       "305        2   0.1      England        India           JJ Roy   \n",
       "263        2   0.1      England    Sri Lanka      JM Bairstow   \n",
       "313        2   0.1      England    Sri Lanka           JJ Roy   \n",
       "0          1   0.1      England  Netherlands           JJ Roy   \n",
       "250        2   0.1      England  Netherlands           JJ Roy   \n",
       "\n",
       "         non_striker            bowler  runs_off_bat  extras  wides  noballs  \\\n",
       "0            JP Bray          CB Mpofu             0       0      0        0   \n",
       "300  WTS Porterfield          Umar Gul             1       0      0        0   \n",
       "0    WTS Porterfield         JE Taylor             0       1      1        0   \n",
       "0         MP Vaughan  D Langford-Smith             0       1      0        1   \n",
       "314          JP Bray       JM Anderson             0       0      0        0   \n",
       "..               ...               ...           ...     ...    ...      ...   \n",
       "305      JM Bairstow           B Kumar             0       0      0        0   \n",
       "263   LS Livingstone      PVD Chameera             4       0      0        0   \n",
       "313      JM Bairstow      PVD Chameera             0       0      0        0   \n",
       "0            PD Salt       LV van Beek             0       0      0        0   \n",
       "250          PD Salt       LV van Beek             4       0      0        0   \n",
       "\n",
       "     byes  legbyes  penalty wicket_type player_dismissed  other_wicket_type  \\\n",
       "0     NaN        0        0         NaN              NaN                NaN   \n",
       "300   NaN        0        0         NaN              NaN                NaN   \n",
       "0     NaN        0        0         NaN              NaN                NaN   \n",
       "0     NaN        0        0         NaN              NaN                NaN   \n",
       "314   NaN        0        0         NaN              NaN                NaN   \n",
       "..    ...      ...      ...         ...              ...                ...   \n",
       "305   NaN        0        0         NaN              NaN                NaN   \n",
       "263   NaN        0        0         NaN              NaN                NaN   \n",
       "313   NaN        0        0         NaN              NaN                NaN   \n",
       "0     NaN        0        0         NaN              NaN                NaN   \n",
       "250   NaN        0        0         NaN              NaN                NaN   \n",
       "\n",
       "     other_player_dismissed  over  ball_no  total_runs_gained  score_board  \\\n",
       "0                       NaN     0        1                  0            0   \n",
       "300                     NaN     0        1                  1            1   \n",
       "0                       NaN     0        1                  1            1   \n",
       "0                       NaN     0        1                  1            1   \n",
       "314                     NaN     0        1                  0            0   \n",
       "..                      ...   ...      ...                ...          ...   \n",
       "305                     NaN     0        1                  0            0   \n",
       "263                     NaN     0        1                  4            4   \n",
       "313                     NaN     0        1                  0            0   \n",
       "0                       NaN     0        1                  0            0   \n",
       "250                     NaN     0        1                  4            4   \n",
       "\n",
       "     dismissal  wickets_lost  team_score  five_wickets_lost_score  \\\n",
       "0        False             0         221                       89   \n",
       "300      False             0         133                      108   \n",
       "0        False             0         183                      129   \n",
       "0        False             0         266                      194   \n",
       "314      False             0         218                      139   \n",
       "..         ...           ...         ...                      ...   \n",
       "305      False             0         251                      176   \n",
       "263      False             0         189                      171   \n",
       "313      False             0         244                      244   \n",
       "0        False             0         498                      498   \n",
       "250      False             0         239                      239   \n",
       "\n",
       "     first_10_over_wickets_lost  team_won  \n",
       "0                             2      True  \n",
       "300                           2      True  \n",
       "0                             1     False  \n",
       "0                             2      True  \n",
       "314                           2      True  \n",
       "..                          ...       ...  \n",
       "305                           0     False  \n",
       "263                           3      True  \n",
       "313                           0      True  \n",
       "0                             1      True  \n",
       "250                           0      True  \n",
       "\n",
       "[226 rows x 32 columns]"
      ]
     },
     "execution_count": 4,
     "metadata": {},
     "output_type": "execute_result"
    }
   ],
   "source": [
    "stats.chi_sq_player_century_and_game_result(player_name=\"EJG Morgan\")"
   ]
  },
  {
   "cell_type": "code",
   "execution_count": 24,
   "metadata": {},
   "outputs": [
    {
     "data": {
      "text/plain": [
       "array(['WTS Porterfield', 'T Duffin', 'Imran Nazir', 'JP Bray',\n",
       "       'CH Gayle', 'EC Joyce', 'AB de Villiers', 'PG Fulton',\n",
       "       'AC Gilchrist', 'Tamim Iqbal', 'WU Tharanga', 'GM Hamilton',\n",
       "       'AJ Strauss', 'SR Watson', 'TM Dilshan', 'GC Smith', 'BB McCullum',\n",
       "       'HM Amla', 'IJL Trott', 'AN Cook', 'Kamran Akmal', 'DS Smith',\n",
       "       'DPMD Jayawardene', 'C Kieswetter', 'FDM Karunaratne',\n",
       "       'Mohammad Hafeez', 'LMP Simmons', 'MS Wade', 'AM Rahane',\n",
       "       'G Gambhir', 'BJ Watling', 'L Ronchi', 'MJ Guptill', 'DA Warner',\n",
       "       'MDKJ Perera', 'CA Ingram', 'RG Sharma', 'MA Carberry', 'SE Marsh',\n",
       "       'KP Pietersen', 'AJ Finch', 'PJ Hughes', 'MJ Lumb', 'KOA Powell',\n",
       "       'MH Cross', 'HDRL Thirimanne', 'MM Ali', 'IR Bell', 'KJ Coetzer',\n",
       "       'JJ Roy', 'JA Burns', 'Azhar Ali', 'Q de Kock', 'Sami Aslam',\n",
       "       'KL Rahul', 'KC Brathwaite', 'JM Bairstow', 'DJM Short',\n",
       "       'JM Vince', 'N Dickwella', 'Imam-ul-Haq', 'Fakhar Zaman',\n",
       "       'Noor Ali Zadran', 'BA Stokes', 'JDS Neesham', 'PR Stirling',\n",
       "       'P Nissanka', 'Vikramjit Singh'], dtype=object)"
      ]
     },
     "execution_count": 24,
     "metadata": {},
     "output_type": "execute_result"
    }
   ],
   "source": [
    "stats.engineered_features.striker.unique()"
   ]
  },
  {
   "cell_type": "code",
   "execution_count": null,
   "metadata": {},
   "outputs": [],
   "source": [
    "import plotly.io as py"
   ]
  },
  {
   "cell_type": "code",
   "execution_count": null,
   "metadata": {},
   "outputs": [],
   "source": []
  },
  {
   "cell_type": "code",
   "execution_count": null,
   "metadata": {},
   "outputs": [
    {
     "data": {
      "image/png": "[encoded data removed]",
      "text/plain": [
       "<Figure size 640x480 with 1 Axes>"
      ]
     },
     "metadata": {},
     "output_type": "display_data"
    }
   ],
   "source": [
    "df=stats.plot_team_win_pct_cumsum(player_name=\"SR Tendulkar\", player_country=\"India\")"
   ]
  },
  {
   "cell_type": "code",
   "execution_count": null,
   "metadata": {},
   "outputs": [
    {
     "data": {
      "image/png": "[encoded data removed]",
      "text/plain": [
       "<Figure size 640x480 with 1 Axes>"
      ]
     },
     "metadata": {},
     "output_type": "display_data"
    }
   ],
   "source": [
    "df=stats.plot_team_win_pct_cumsum(player_name=\"MJ Clarke\", player_country=\"Australia\")"
   ]
  },
  {
   "cell_type": "code",
   "execution_count": null,
   "metadata": {},
   "outputs": [
    {
     "data": {
      "image/png": "[encoded data removed]",
      "text/plain": [
       "<Figure size 640x480 with 1 Axes>"
      ]
     },
     "metadata": {},
     "output_type": "display_data"
    }
   ],
   "source": [
    "df=stats.plot_team_win_pct_cumsum(player_name=\"V Kohli\", player_country=\"India\")"
   ]
  },
  {
   "cell_type": "code",
   "execution_count": null,
   "metadata": {},
   "outputs": [
    {
     "data": {
      "image/png": "[encoded data removed]",
      "text/plain": [
       "<Figure size 640x480 with 1 Axes>"
      ]
     },
     "metadata": {},
     "output_type": "display_data"
    }
   ],
   "source": [
    "df=stats.plot_team_win_pct_cumsum(player_name=\"Babar Azam\", player_country=\"Pakistan\")"
   ]
  },
  {
   "cell_type": "code",
   "execution_count": null,
   "metadata": {},
   "outputs": [
    {
     "data": {
      "image/png": "[encoded data removed]",
      "text/plain": [
       "<Figure size 640x480 with 1 Axes>"
      ]
     },
     "metadata": {},
     "output_type": "display_data"
    }
   ],
   "source": [
    "df=stats.plot_team_win_pct_cumsum(player_name=\"Imam-ul-Haq\", player_country=\"Pakistan\")"
   ]
  },
  {
   "cell_type": "code",
   "execution_count": null,
   "metadata": {},
   "outputs": [
    {
     "data": {
      "image/png": "[encoded data removed]",
      "text/plain": [
       "<Figure size 640x480 with 1 Axes>"
      ]
     },
     "metadata": {},
     "output_type": "display_data"
    }
   ],
   "source": [
    "\tdf=stats.plot_team_win_pct_cumsum(player_name=\"MS Dhoni\", player_country=\"India\")"
   ]
  },
  {
   "cell_type": "code",
   "execution_count": null,
   "metadata": {},
   "outputs": [
    {
     "data": {
      "image/png": "[encoded data removed]",
      "text/plain": [
       "<Figure size 640x480 with 1 Axes>"
      ]
     },
     "metadata": {},
     "output_type": "display_data"
    }
   ],
   "source": [
    "\tdf=stats.plot_team_win_pct_cumsum(player_name=\"RG Sharma\", player_country=\"India\")"
   ]
  },
  {
   "cell_type": "code",
   "execution_count": null,
   "metadata": {},
   "outputs": [
    {
     "data": {
      "image/png": "[encoded data removed]",
      "text/plain": [
       "<Figure size 640x480 with 1 Axes>"
      ]
     },
     "metadata": {},
     "output_type": "display_data"
    }
   ],
   "source": [
    "\tdf=stats.plot_team_win_pct_cumsum(player_name=\"AB de Villiers\", player_country=\"South Africa\")"
   ]
  },
  {
   "cell_type": "code",
   "execution_count": null,
   "metadata": {},
   "outputs": [
    {
     "data": {
      "image/png": "[encoded data removed]",
      "text/plain": [
       "<Figure size 640x480 with 1 Axes>"
      ]
     },
     "metadata": {},
     "output_type": "display_data"
    }
   ],
   "source": [
    "\tdf=stats.plot_team_win_pct_cumsum(player_name=\"RT Ponting\", player_country=\"Australia\")"
   ]
  },
  {
   "cell_type": "code",
   "execution_count": null,
   "metadata": {},
   "outputs": [
    {
     "data": {
      "text/plain": [
       "<Axes: xlabel='score', ylabel='prob'>"
      ]
     },
     "execution_count": 554,
     "metadata": {},
     "output_type": "execute_result"
    },
    {
     "data": {
      "image/png": "[encoded data removed]",
      "text/plain": [
       "<Figure size 640x480 with 1 Axes>"
      ]
     },
     "metadata": {},
     "output_type": "display_data"
    }
   ],
   "source": [
    "pd.DataFrame(win_pct_profile).plot(x=\"score\", y=\"prob\", kind=\"scatter\")"
   ]
  },
  {
   "cell_type": "code",
   "execution_count": 14,
   "metadata": {},
   "outputs": [
    {
     "name": "stdout",
     "output_type": "stream",
     "text": [
      "Faulty file -> tests_male_csv2/README.txt\n"
     ]
    }
   ],
   "source": [
    "stats = PlayerPerformance(path=\"tests_male_csv2\")\n",
    "plyer_stats=stats.player_luck_comparision(n=50)"
   ]
  },
  {
   "cell_type": "code",
   "execution_count": 8,
   "metadata": {},
   "outputs": [
    {
     "data": {
      "application/vnd.plotly.v1+json": {
       "config": {
        "plotlyServerURL": "https://plot.ly"
       },
       "data": [
        {
         "hovertemplate": "<b>%{hovertext}</b><br><br>marked=fab_four<br>century_accuracy=%{x}<br>century_precision=%{y}<br>sample=%{marker.size}<extra></extra>",
         "hovertext": [
          "V Kohli",
          "KS Williamson"
         ],
         "legendgroup": "fab_four",
         "marker": {
          "color": "green",
          "size": [
           109,
           87
          ],
          "sizemode": "area",
          "sizeref": 0.35,
          "symbol": "circle"
         },
         "mode": "markers",
         "name": "fab_four",
         "orientation": "v",
         "showlegend": true,
         "type": "scatter",
         "x": [
          0.3486238532110092,
          0.19540229885057472
         ],
         "xaxis": "x",
         "y": [
          0.7105263157894737,
          0.47058823529411764
         ],
         "yaxis": "y"
        },
        {
         "hovertemplate": "<b>%{hovertext}</b><br><br>marked=unmarked<br>century_accuracy=%{x}<br>century_precision=%{y}<br>sample=%{marker.size}<extra></extra>",
         "hovertext": [
          "RG Sharma",
          "MJ Guptill",
          "Babar Azam",
          "PR Stirling",
          "AJ Finch",
          "DA Warner",
          "Mohammad Rizwan",
          "JC Buttler",
          "Mohammad Hafeez",
          "EJG Morgan",
          "Shoaib Malik",
          "Shakib Al Hasan",
          "KL Rahul",
          "Q de Kock",
          "DA Miller",
          "GJ Maxwell",
          "BB McCullum",
          "Mahmudullah",
          "AD Hales",
          "Mohammad Shahzad",
          "JP Duminy",
          "CH Gayle",
          "LRPL Taylor",
          "KJ O'Brien",
          "A Balbirnie",
          "TM Dilshan",
          "DJ Malan",
          "Mohammad Nabi",
          "S Dhawan",
          "C Munro",
          "Najibullah Zadran",
          "Umar Akmal",
          "Tamim Iqbal",
          "SA Yadav",
          "AB de Villiers",
          "Liton Das",
          "MDKJ Perera",
          "MN Samuels",
          "MS Dhoni",
          "SK Raina",
          "KA Pollard",
          "RR Hendricks",
          "F du Plessis",
          "LMP Simmons",
          "JJ Roy",
          "N Pooran",
          "MP O'Dowd",
          "Ahmed Shehzad"
         ],
         "legendgroup": "unmarked",
         "marker": {
          "color": "red",
          "size": [
           140,
           124,
           98,
           118,
           104,
           101,
           74,
           98,
           109,
           108,
           109,
           111,
           70,
           79,
           98,
           89,
           74,
           110,
           74,
           65,
           75,
           77,
           100,
           94,
           85,
           77,
           56,
           99,
           66,
           64,
           85,
           81,
           71,
           46,
           74,
           72,
           63,
           66,
           84,
           65,
           85,
           51,
           48,
           67,
           65,
           67,
           55,
           60
          ],
          "sizemode": "area",
          "sizeref": 0.35,
          "symbol": "circle"
         },
         "mode": "markers",
         "name": "unmarked",
         "orientation": "v",
         "showlegend": true,
         "type": "scatter",
         "x": [
          0.2357142857142857,
          0.1774193548387097,
          0.336734693877551,
          0.19491525423728814,
          0.20192307692307693,
          0.24752475247524752,
          0.35135135135135137,
          0.21428571428571427,
          0.12844036697247707,
          0.12962962962962962,
          0.08256880733944955,
          0.10810810810810811,
          0.34285714285714286,
          0.189873417721519,
          0.08163265306122448,
          0.14606741573033707,
          0.20270270270270271,
          0.05454545454545454,
          0.17567567567567569,
          0.2,
          0.14666666666666667,
          0.2077922077922078,
          0.07,
          0.05319148936170213,
          0.09411764705882353,
          0.18181818181818182,
          0.2857142857142857,
          0.050505050505050504,
          0.16666666666666666,
          0.21875,
          0.09411764705882353,
          0.09876543209876543,
          0.11267605633802817,
          0.34782608695652173,
          0.13513513513513514,
          0.1388888888888889,
          0.20634920634920634,
          0.15151515151515152,
          0.023809523809523808,
          0.09230769230769231,
          0.07058823529411765,
          0.2549019607843137,
          0.22916666666666666,
          0.13432835820895522,
          0.12307692307692308,
          0.13432835820895522,
          0.18181818181818182,
          0.13333333333333333
         ],
         "xaxis": "x",
         "y": [
          0.8787878787878788,
          0.6818181818181818,
          0.7878787878787878,
          0.8695652173913043,
          0.8095238095238095,
          0.68,
          0.7692307692307693,
          0.7142857142857143,
          0.7857142857142857,
          0.8571428571428571,
          0.8888888888888888,
          0.3333333333333333,
          0.875,
          0.6666666666666666,
          0.75,
          0.8461538461538461,
          0.8666666666666667,
          0.5,
          0.7692307692307693,
          0.9230769230769231,
          0.45454545454545453,
          0.8125,
          0.14285714285714285,
          0.4,
          0.875,
          0.6428571428571429,
          0.6875,
          0.8,
          0.9090909090909091,
          0.5714285714285714,
          0.875,
          0.75,
          0.625,
          0.8125,
          0.7,
          0.8,
          0.6153846153846154,
          0.8,
          0.5,
          0.6666666666666666,
          0.5,
          0.6923076923076923,
          0.2727272727272727,
          0.6666666666666666,
          0.625,
          0.2222222222222222,
          0.6,
          1
         ],
         "yaxis": "y"
        }
       ],
       "layout": {
        "legend": {
         "itemsizing": "constant",
         "title": {
          "text": "marked"
         },
         "tracegroupgap": 0
        },
        "template": {
         "data": {
          "bar": [
           {
            "error_x": {
             "color": "rgb(36,36,36)"
            },
            "error_y": {
             "color": "rgb(36,36,36)"
            },
            "marker": {
             "line": {
              "color": "white",
              "width": 0.5
             },
             "pattern": {
              "fillmode": "overlay",
              "size": 10,
              "solidity": 0.2
             }
            },
            "type": "bar"
           }
          ],
          "barpolar": [
           {
            "marker": {
             "line": {
              "color": "white",
              "width": 0.5
             },
             "pattern": {
              "fillmode": "overlay",
              "size": 10,
              "solidity": 0.2
             }
            },
            "type": "barpolar"
           }
          ],
          "carpet": [
           {
            "aaxis": {
             "endlinecolor": "rgb(36,36,36)",
             "gridcolor": "white",
             "linecolor": "white",
             "minorgridcolor": "white",
             "startlinecolor": "rgb(36,36,36)"
            },
            "baxis": {
             "endlinecolor": "rgb(36,36,36)",
             "gridcolor": "white",
             "linecolor": "white",
             "minorgridcolor": "white",
             "startlinecolor": "rgb(36,36,36)"
            },
            "type": "carpet"
           }
          ],
          "choropleth": [
           {
            "colorbar": {
             "outlinewidth": 1,
             "tickcolor": "rgb(36,36,36)",
             "ticks": "outside"
            },
            "type": "choropleth"
           }
          ],
          "contour": [
           {
            "colorbar": {
             "outlinewidth": 1,
             "tickcolor": "rgb(36,36,36)",
             "ticks": "outside"
            },
            "colorscale": [
             [
              0,
              "#440154"
             ],
             [
              0.1111111111111111,
              "#482878"
             ],
             [
              0.2222222222222222,
              "#3e4989"
             ],
             [
              0.3333333333333333,
              "#31688e"
             ],
             [
              0.4444444444444444,
              "#26828e"
             ],
             [
              0.5555555555555556,
              "#1f9e89"
             ],
             [
              0.6666666666666666,
              "#35b779"
             ],
             [
              0.7777777777777778,
              "#6ece58"
             ],
             [
              0.8888888888888888,
              "#b5de2b"
             ],
             [
              1,
              "#fde725"
             ]
            ],
            "type": "contour"
           }
          ],
          "contourcarpet": [
           {
            "colorbar": {
             "outlinewidth": 1,
             "tickcolor": "rgb(36,36,36)",
             "ticks": "outside"
            },
            "type": "contourcarpet"
           }
          ],
          "heatmap": [
           {
            "colorbar": {
             "outlinewidth": 1,
             "tickcolor": "rgb(36,36,36)",
             "ticks": "outside"
            },
            "colorscale": [
             [
              0,
              "#440154"
             ],
             [
              0.1111111111111111,
              "#482878"
             ],
             [
              0.2222222222222222,
              "#3e4989"
             ],
             [
              0.3333333333333333,
              "#31688e"
             ],
             [
              0.4444444444444444,
              "#26828e"
             ],
             [
              0.5555555555555556,
              "#1f9e89"
             ],
             [
              0.6666666666666666,
              "#35b779"
             ],
             [
              0.7777777777777778,
              "#6ece58"
             ],
             [
              0.8888888888888888,
              "#b5de2b"
             ],
             [
              1,
              "#fde725"
             ]
            ],
            "type": "heatmap"
           }
          ],
          "heatmapgl": [
           {
            "colorbar": {
             "outlinewidth": 1,
             "tickcolor": "rgb(36,36,36)",
             "ticks": "outside"
            },
            "colorscale": [
             [
              0,
              "#440154"
             ],
             [
              0.1111111111111111,
              "#482878"
             ],
             [
              0.2222222222222222,
              "#3e4989"
             ],
             [
              0.3333333333333333,
              "#31688e"
             ],
             [
              0.4444444444444444,
              "#26828e"
             ],
             [
              0.5555555555555556,
              "#1f9e89"
             ],
             [
              0.6666666666666666,
              "#35b779"
             ],
             [
              0.7777777777777778,
              "#6ece58"
             ],
             [
              0.8888888888888888,
              "#b5de2b"
             ],
             [
              1,
              "#fde725"
             ]
            ],
            "type": "heatmapgl"
           }
          ],
          "histogram": [
           {
            "marker": {
             "line": {
              "color": "white",
              "width": 0.6
             }
            },
            "type": "histogram"
           }
          ],
          "histogram2d": [
           {
            "colorbar": {
             "outlinewidth": 1,
             "tickcolor": "rgb(36,36,36)",
             "ticks": "outside"
            },
            "colorscale": [
             [
              0,
              "#440154"
             ],
             [
              0.1111111111111111,
              "#482878"
             ],
             [
              0.2222222222222222,
              "#3e4989"
             ],
             [
              0.3333333333333333,
              "#31688e"
             ],
             [
              0.4444444444444444,
              "#26828e"
             ],
             [
              0.5555555555555556,
              "#1f9e89"
             ],
             [
              0.6666666666666666,
              "#35b779"
             ],
             [
              0.7777777777777778,
              "#6ece58"
             ],
             [
              0.8888888888888888,
              "#b5de2b"
             ],
             [
              1,
              "#fde725"
             ]
            ],
            "type": "histogram2d"
           }
          ],
          "histogram2dcontour": [
           {
            "colorbar": {
             "outlinewidth": 1,
             "tickcolor": "rgb(36,36,36)",
             "ticks": "outside"
            },
            "colorscale": [
             [
              0,
              "#440154"
             ],
             [
              0.1111111111111111,
              "#482878"
             ],
             [
              0.2222222222222222,
              "#3e4989"
             ],
             [
              0.3333333333333333,
              "#31688e"
             ],
             [
              0.4444444444444444,
              "#26828e"
             ],
             [
              0.5555555555555556,
              "#1f9e89"
             ],
             [
              0.6666666666666666,
              "#35b779"
             ],
             [
              0.7777777777777778,
              "#6ece58"
             ],
             [
              0.8888888888888888,
              "#b5de2b"
             ],
             [
              1,
              "#fde725"
             ]
            ],
            "type": "histogram2dcontour"
           }
          ],
          "mesh3d": [
           {
            "colorbar": {
             "outlinewidth": 1,
             "tickcolor": "rgb(36,36,36)",
             "ticks": "outside"
            },
            "type": "mesh3d"
           }
          ],
          "parcoords": [
           {
            "line": {
             "colorbar": {
              "outlinewidth": 1,
              "tickcolor": "rgb(36,36,36)",
              "ticks": "outside"
             }
            },
            "type": "parcoords"
           }
          ],
          "pie": [
           {
            "automargin": true,
            "type": "pie"
           }
          ],
          "scatter": [
           {
            "fillpattern": {
             "fillmode": "overlay",
             "size": 10,
             "solidity": 0.2
            },
            "type": "scatter"
           }
          ],
          "scatter3d": [
           {
            "line": {
             "colorbar": {
              "outlinewidth": 1,
              "tickcolor": "rgb(36,36,36)",
              "ticks": "outside"
             }
            },
            "marker": {
             "colorbar": {
              "outlinewidth": 1,
              "tickcolor": "rgb(36,36,36)",
              "ticks": "outside"
             }
            },
            "type": "scatter3d"
           }
          ],
          "scattercarpet": [
           {
            "marker": {
             "colorbar": {
              "outlinewidth": 1,
              "tickcolor": "rgb(36,36,36)",
              "ticks": "outside"
             }
            },
            "type": "scattercarpet"
           }
          ],
          "scattergeo": [
           {
            "marker": {
             "colorbar": {
              "outlinewidth": 1,
              "tickcolor": "rgb(36,36,36)",
              "ticks": "outside"
             }
            },
            "type": "scattergeo"
           }
          ],
          "scattergl": [
           {
            "marker": {
             "colorbar": {
              "outlinewidth": 1,
              "tickcolor": "rgb(36,36,36)",
              "ticks": "outside"
             }
            },
            "type": "scattergl"
           }
          ],
          "scattermapbox": [
           {
            "marker": {
             "colorbar": {
              "outlinewidth": 1,
              "tickcolor": "rgb(36,36,36)",
              "ticks": "outside"
             }
            },
            "type": "scattermapbox"
           }
          ],
          "scatterpolar": [
           {
            "marker": {
             "colorbar": {
              "outlinewidth": 1,
              "tickcolor": "rgb(36,36,36)",
              "ticks": "outside"
             }
            },
            "type": "scatterpolar"
           }
          ],
          "scatterpolargl": [
           {
            "marker": {
             "colorbar": {
              "outlinewidth": 1,
              "tickcolor": "rgb(36,36,36)",
              "ticks": "outside"
             }
            },
            "type": "scatterpolargl"
           }
          ],
          "scatterternary": [
           {
            "marker": {
             "colorbar": {
              "outlinewidth": 1,
              "tickcolor": "rgb(36,36,36)",
              "ticks": "outside"
             }
            },
            "type": "scatterternary"
           }
          ],
          "surface": [
           {
            "colorbar": {
             "outlinewidth": 1,
             "tickcolor": "rgb(36,36,36)",
             "ticks": "outside"
            },
            "colorscale": [
             [
              0,
              "#440154"
             ],
             [
              0.1111111111111111,
              "#482878"
             ],
             [
              0.2222222222222222,
              "#3e4989"
             ],
             [
              0.3333333333333333,
              "#31688e"
             ],
             [
              0.4444444444444444,
              "#26828e"
             ],
             [
              0.5555555555555556,
              "#1f9e89"
             ],
             [
              0.6666666666666666,
              "#35b779"
             ],
             [
              0.7777777777777778,
              "#6ece58"
             ],
             [
              0.8888888888888888,
              "#b5de2b"
             ],
             [
              1,
              "#fde725"
             ]
            ],
            "type": "surface"
           }
          ],
          "table": [
           {
            "cells": {
             "fill": {
              "color": "rgb(237,237,237)"
             },
             "line": {
              "color": "white"
             }
            },
            "header": {
             "fill": {
              "color": "rgb(217,217,217)"
             },
             "line": {
              "color": "white"
             }
            },
            "type": "table"
           }
          ]
         },
         "layout": {
          "annotationdefaults": {
           "arrowhead": 0,
           "arrowwidth": 1
          },
          "autotypenumbers": "strict",
          "coloraxis": {
           "colorbar": {
            "outlinewidth": 1,
            "tickcolor": "rgb(36,36,36)",
            "ticks": "outside"
           }
          },
          "colorscale": {
           "diverging": [
            [
             0,
             "rgb(103,0,31)"
            ],
            [
             0.1,
             "rgb(178,24,43)"
            ],
            [
             0.2,
             "rgb(214,96,77)"
            ],
            [
             0.3,
             "rgb(244,165,130)"
            ],
            [
             0.4,
             "rgb(253,219,199)"
            ],
            [
             0.5,
             "rgb(247,247,247)"
            ],
            [
             0.6,
             "rgb(209,229,240)"
            ],
            [
             0.7,
             "rgb(146,197,222)"
            ],
            [
             0.8,
             "rgb(67,147,195)"
            ],
            [
             0.9,
             "rgb(33,102,172)"
            ],
            [
             1,
             "rgb(5,48,97)"
            ]
           ],
           "sequential": [
            [
             0,
             "#440154"
            ],
            [
             0.1111111111111111,
             "#482878"
            ],
            [
             0.2222222222222222,
             "#3e4989"
            ],
            [
             0.3333333333333333,
             "#31688e"
            ],
            [
             0.4444444444444444,
             "#26828e"
            ],
            [
             0.5555555555555556,
             "#1f9e89"
            ],
            [
             0.6666666666666666,
             "#35b779"
            ],
            [
             0.7777777777777778,
             "#6ece58"
            ],
            [
             0.8888888888888888,
             "#b5de2b"
            ],
            [
             1,
             "#fde725"
            ]
           ],
           "sequentialminus": [
            [
             0,
             "#440154"
            ],
            [
             0.1111111111111111,
             "#482878"
            ],
            [
             0.2222222222222222,
             "#3e4989"
            ],
            [
             0.3333333333333333,
             "#31688e"
            ],
            [
             0.4444444444444444,
             "#26828e"
            ],
            [
             0.5555555555555556,
             "#1f9e89"
            ],
            [
             0.6666666666666666,
             "#35b779"
            ],
            [
             0.7777777777777778,
             "#6ece58"
            ],
            [
             0.8888888888888888,
             "#b5de2b"
            ],
            [
             1,
             "#fde725"
            ]
           ]
          },
          "colorway": [
           "#1F77B4",
           "#FF7F0E",
           "#2CA02C",
           "#D62728",
           "#9467BD",
           "#8C564B",
           "#E377C2",
           "#7F7F7F",
           "#BCBD22",
           "#17BECF"
          ],
          "font": {
           "color": "rgb(36,36,36)"
          },
          "geo": {
           "bgcolor": "white",
           "lakecolor": "white",
           "landcolor": "white",
           "showlakes": true,
           "showland": true,
           "subunitcolor": "white"
          },
          "hoverlabel": {
           "align": "left"
          },
          "hovermode": "closest",
          "mapbox": {
           "style": "light"
          },
          "paper_bgcolor": "white",
          "plot_bgcolor": "white",
          "polar": {
           "angularaxis": {
            "gridcolor": "rgb(232,232,232)",
            "linecolor": "rgb(36,36,36)",
            "showgrid": false,
            "showline": true,
            "ticks": "outside"
           },
           "bgcolor": "white",
           "radialaxis": {
            "gridcolor": "rgb(232,232,232)",
            "linecolor": "rgb(36,36,36)",
            "showgrid": false,
            "showline": true,
            "ticks": "outside"
           }
          },
          "scene": {
           "xaxis": {
            "backgroundcolor": "white",
            "gridcolor": "rgb(232,232,232)",
            "gridwidth": 2,
            "linecolor": "rgb(36,36,36)",
            "showbackground": true,
            "showgrid": false,
            "showline": true,
            "ticks": "outside",
            "zeroline": false,
            "zerolinecolor": "rgb(36,36,36)"
           },
           "yaxis": {
            "backgroundcolor": "white",
            "gridcolor": "rgb(232,232,232)",
            "gridwidth": 2,
            "linecolor": "rgb(36,36,36)",
            "showbackground": true,
            "showgrid": false,
            "showline": true,
            "ticks": "outside",
            "zeroline": false,
            "zerolinecolor": "rgb(36,36,36)"
           },
           "zaxis": {
            "backgroundcolor": "white",
            "gridcolor": "rgb(232,232,232)",
            "gridwidth": 2,
            "linecolor": "rgb(36,36,36)",
            "showbackground": true,
            "showgrid": false,
            "showline": true,
            "ticks": "outside",
            "zeroline": false,
            "zerolinecolor": "rgb(36,36,36)"
           }
          },
          "shapedefaults": {
           "fillcolor": "black",
           "line": {
            "width": 0
           },
           "opacity": 0.3
          },
          "ternary": {
           "aaxis": {
            "gridcolor": "rgb(232,232,232)",
            "linecolor": "rgb(36,36,36)",
            "showgrid": false,
            "showline": true,
            "ticks": "outside"
           },
           "baxis": {
            "gridcolor": "rgb(232,232,232)",
            "linecolor": "rgb(36,36,36)",
            "showgrid": false,
            "showline": true,
            "ticks": "outside"
           },
           "bgcolor": "white",
           "caxis": {
            "gridcolor": "rgb(232,232,232)",
            "linecolor": "rgb(36,36,36)",
            "showgrid": false,
            "showline": true,
            "ticks": "outside"
           }
          },
          "title": {
           "x": 0.05
          },
          "xaxis": {
           "automargin": true,
           "gridcolor": "rgb(232,232,232)",
           "linecolor": "rgb(36,36,36)",
           "showgrid": false,
           "showline": true,
           "ticks": "outside",
           "title": {
            "standoff": 15
           },
           "zeroline": false,
           "zerolinecolor": "rgb(36,36,36)"
          },
          "yaxis": {
           "automargin": true,
           "gridcolor": "rgb(232,232,232)",
           "linecolor": "rgb(36,36,36)",
           "showgrid": false,
           "showline": true,
           "ticks": "outside",
           "title": {
            "standoff": 15
           },
           "zeroline": false,
           "zerolinecolor": "rgb(36,36,36)"
          }
         }
        },
        "title": {
         "text": "Test Cricket from 2002 - 2023",
         "x": 0.5,
         "xanchor": "center",
         "y": 0.95,
         "yanchor": "top"
        },
        "xaxis": {
         "anchor": "y",
         "domain": [
          0,
          1
         ],
         "title": {
          "text": "century_accuracy"
         }
        },
        "yaxis": {
         "anchor": "x",
         "domain": [
          0,
          1
         ],
         "title": {
          "text": "century_precision"
         }
        }
       }
      }
     },
     "metadata": {},
     "output_type": "display_data"
    }
   ],
   "source": [
    "import plotly.express as px\n",
    "\n",
    "fig = px.scatter(\n",
    "    plyer_stats, \n",
    "    x=\"century_accuracy\", \n",
    "    y=\"century_precision\", \n",
    "    size=\"sample\", \n",
    "    hover_name=\"player_name\", \n",
    "    color=\"marked\",\n",
    "    color_discrete_map={'unmarked': 'red', 'marked': 'blue', \"fab_four\": \"green\"},\n",
    "    template=\"simple_white\",\n",
    "    title=\"One Day Internationals from 2002 - 2023\"\n",
    "    # marginal_x=\"box\",\n",
    "    # marginal_y=\"box\",\n",
    "    )\n",
    "\n",
    "fig.update_layout(\n",
    "    title={\n",
    "        'text': \"Test Cricket from 2002 - 2023\",\n",
    "        'y':0.95,\n",
    "        'x':0.5,\n",
    "        'xanchor': 'center',\n",
    "        'yanchor': 'top'})\n",
    "fig.show()"
   ]
  },
  {
   "cell_type": "code",
   "execution_count": 3,
   "metadata": {},
   "outputs": [
    {
     "name": "stdout",
     "output_type": "stream",
     "text": [
      "Faulty file -> t20s_male_csv2/README.txt\n",
      "team_won           True\n",
      "tendulkar_century      \n",
      "False                 1\n",
      "True                  0\n"
     ]
    },
    {
     "data": {
      "application/vnd.plotly.v1+json": {
       "config": {
        "plotlyServerURL": "https://plot.ly"
       },
       "data": [
        {
         "hovertemplate": "<b>%{hovertext}</b><br><br>marked=fab_four<br>century_accuracy=%{x}<br>century_precision=%{y}<br>sample=%{marker.size}<extra></extra>",
         "hovertext": [
          "V Kohli",
          "KS Williamson"
         ],
         "legendgroup": "fab_four",
         "marker": {
          "color": "green",
          "size": [
           109,
           87
          ],
          "sizemode": "area",
          "sizeref": 0.35,
          "symbol": "circle"
         },
         "mode": "markers",
         "name": "fab_four",
         "orientation": "v",
         "showlegend": true,
         "type": "scatter",
         "x": [
          0.3486238532110092,
          0.19540229885057472
         ],
         "xaxis": "x",
         "y": [
          0.7105263157894737,
          0.47058823529411764
         ],
         "yaxis": "y"
        },
        {
         "alignmentgroup": "True",
         "hovertemplate": "<b>%{hovertext}</b><br><br>marked=fab_four<br>century_accuracy=%{x}<extra></extra>",
         "hovertext": [
          "V Kohli",
          "KS Williamson"
         ],
         "legendgroup": "fab_four",
         "marker": {
          "color": "green",
          "symbol": "circle"
         },
         "name": "fab_four",
         "notched": true,
         "offsetgroup": "fab_four",
         "showlegend": false,
         "type": "box",
         "x": [
          0.3486238532110092,
          0.19540229885057472
         ],
         "xaxis": "x3",
         "yaxis": "y3"
        },
        {
         "alignmentgroup": "True",
         "hovertemplate": "<b>%{hovertext}</b><br><br>marked=fab_four<br>century_precision=%{y}<extra></extra>",
         "hovertext": [
          "V Kohli",
          "KS Williamson"
         ],
         "legendgroup": "fab_four",
         "marker": {
          "color": "green",
          "symbol": "circle"
         },
         "name": "fab_four",
         "notched": true,
         "offsetgroup": "fab_four",
         "showlegend": false,
         "type": "box",
         "xaxis": "x2",
         "y": [
          0.7105263157894737,
          0.47058823529411764
         ],
         "yaxis": "y2"
        },
        {
         "hovertemplate": "<b>%{hovertext}</b><br><br>marked=unmarked<br>century_accuracy=%{x}<br>century_precision=%{y}<br>sample=%{marker.size}<extra></extra>",
         "hovertext": [
          "RG Sharma",
          "MJ Guptill",
          "Babar Azam",
          "PR Stirling",
          "AJ Finch",
          "DA Warner",
          "Mohammad Rizwan",
          "JC Buttler",
          "Mohammad Hafeez",
          "EJG Morgan",
          "Shoaib Malik",
          "Shakib Al Hasan",
          "KL Rahul",
          "Q de Kock",
          "DA Miller",
          "GJ Maxwell",
          "BB McCullum",
          "Mahmudullah",
          "AD Hales",
          "Mohammad Shahzad",
          "JP Duminy",
          "CH Gayle",
          "LRPL Taylor",
          "KJ O'Brien",
          "A Balbirnie",
          "TM Dilshan",
          "DJ Malan",
          "Mohammad Nabi",
          "S Dhawan",
          "C Munro",
          "Najibullah Zadran",
          "Umar Akmal",
          "Tamim Iqbal",
          "SA Yadav",
          "AB de Villiers",
          "Liton Das",
          "MDKJ Perera",
          "MN Samuels",
          "MS Dhoni",
          "SK Raina",
          "KA Pollard",
          "RR Hendricks",
          "F du Plessis",
          "LMP Simmons",
          "JJ Roy",
          "N Pooran",
          "MP O'Dowd",
          "Ahmed Shehzad"
         ],
         "legendgroup": "unmarked",
         "marker": {
          "color": "red",
          "size": [
           140,
           124,
           98,
           118,
           104,
           101,
           74,
           98,
           109,
           108,
           109,
           111,
           70,
           79,
           98,
           89,
           74,
           110,
           74,
           65,
           75,
           77,
           100,
           94,
           85,
           77,
           56,
           99,
           66,
           64,
           85,
           81,
           71,
           46,
           74,
           72,
           63,
           66,
           84,
           65,
           85,
           51,
           48,
           67,
           65,
           67,
           55,
           60
          ],
          "sizemode": "area",
          "sizeref": 0.35,
          "symbol": "circle"
         },
         "mode": "markers",
         "name": "unmarked",
         "orientation": "v",
         "showlegend": true,
         "type": "scatter",
         "x": [
          0.2357142857142857,
          0.1774193548387097,
          0.336734693877551,
          0.19491525423728814,
          0.20192307692307693,
          0.24752475247524752,
          0.35135135135135137,
          0.21428571428571427,
          0.12844036697247707,
          0.12962962962962962,
          0.08256880733944955,
          0.10810810810810811,
          0.34285714285714286,
          0.189873417721519,
          0.08163265306122448,
          0.14606741573033707,
          0.20270270270270271,
          0.05454545454545454,
          0.17567567567567569,
          0.2,
          0.14666666666666667,
          0.2077922077922078,
          0.07,
          0.05319148936170213,
          0.09411764705882353,
          0.18181818181818182,
          0.2857142857142857,
          0.050505050505050504,
          0.16666666666666666,
          0.21875,
          0.09411764705882353,
          0.09876543209876543,
          0.11267605633802817,
          0.34782608695652173,
          0.13513513513513514,
          0.1388888888888889,
          0.20634920634920634,
          0.15151515151515152,
          0.023809523809523808,
          0.09230769230769231,
          0.07058823529411765,
          0.2549019607843137,
          0.22916666666666666,
          0.13432835820895522,
          0.12307692307692308,
          0.13432835820895522,
          0.18181818181818182,
          0.13333333333333333
         ],
         "xaxis": "x",
         "y": [
          0.8787878787878788,
          0.6818181818181818,
          0.7878787878787878,
          0.8695652173913043,
          0.8095238095238095,
          0.68,
          0.7692307692307693,
          0.7142857142857143,
          0.7857142857142857,
          0.8571428571428571,
          0.8888888888888888,
          0.3333333333333333,
          0.875,
          0.6666666666666666,
          0.75,
          0.8461538461538461,
          0.8666666666666667,
          0.5,
          0.7692307692307693,
          0.9230769230769231,
          0.45454545454545453,
          0.8125,
          0.14285714285714285,
          0.4,
          0.875,
          0.6428571428571429,
          0.6875,
          0.8,
          0.9090909090909091,
          0.5714285714285714,
          0.875,
          0.75,
          0.625,
          0.8125,
          0.7,
          0.8,
          0.6153846153846154,
          0.8,
          0.5,
          0.6666666666666666,
          0.5,
          0.6923076923076923,
          0.2727272727272727,
          0.6666666666666666,
          0.625,
          0.2222222222222222,
          0.6,
          1
         ],
         "yaxis": "y"
        },
        {
         "alignmentgroup": "True",
         "hovertemplate": "<b>%{hovertext}</b><br><br>marked=unmarked<br>century_accuracy=%{x}<extra></extra>",
         "hovertext": [
          "RG Sharma",
          "MJ Guptill",
          "Babar Azam",
          "PR Stirling",
          "AJ Finch",
          "DA Warner",
          "Mohammad Rizwan",
          "JC Buttler",
          "Mohammad Hafeez",
          "EJG Morgan",
          "Shoaib Malik",
          "Shakib Al Hasan",
          "KL Rahul",
          "Q de Kock",
          "DA Miller",
          "GJ Maxwell",
          "BB McCullum",
          "Mahmudullah",
          "AD Hales",
          "Mohammad Shahzad",
          "JP Duminy",
          "CH Gayle",
          "LRPL Taylor",
          "KJ O'Brien",
          "A Balbirnie",
          "TM Dilshan",
          "DJ Malan",
          "Mohammad Nabi",
          "S Dhawan",
          "C Munro",
          "Najibullah Zadran",
          "Umar Akmal",
          "Tamim Iqbal",
          "SA Yadav",
          "AB de Villiers",
          "Liton Das",
          "MDKJ Perera",
          "MN Samuels",
          "MS Dhoni",
          "SK Raina",
          "KA Pollard",
          "RR Hendricks",
          "F du Plessis",
          "LMP Simmons",
          "JJ Roy",
          "N Pooran",
          "MP O'Dowd",
          "Ahmed Shehzad"
         ],
         "legendgroup": "unmarked",
         "marker": {
          "color": "red",
          "symbol": "circle"
         },
         "name": "unmarked",
         "notched": true,
         "offsetgroup": "unmarked",
         "showlegend": false,
         "type": "box",
         "x": [
          0.2357142857142857,
          0.1774193548387097,
          0.336734693877551,
          0.19491525423728814,
          0.20192307692307693,
          0.24752475247524752,
          0.35135135135135137,
          0.21428571428571427,
          0.12844036697247707,
          0.12962962962962962,
          0.08256880733944955,
          0.10810810810810811,
          0.34285714285714286,
          0.189873417721519,
          0.08163265306122448,
          0.14606741573033707,
          0.20270270270270271,
          0.05454545454545454,
          0.17567567567567569,
          0.2,
          0.14666666666666667,
          0.2077922077922078,
          0.07,
          0.05319148936170213,
          0.09411764705882353,
          0.18181818181818182,
          0.2857142857142857,
          0.050505050505050504,
          0.16666666666666666,
          0.21875,
          0.09411764705882353,
          0.09876543209876543,
          0.11267605633802817,
          0.34782608695652173,
          0.13513513513513514,
          0.1388888888888889,
          0.20634920634920634,
          0.15151515151515152,
          0.023809523809523808,
          0.09230769230769231,
          0.07058823529411765,
          0.2549019607843137,
          0.22916666666666666,
          0.13432835820895522,
          0.12307692307692308,
          0.13432835820895522,
          0.18181818181818182,
          0.13333333333333333
         ],
         "xaxis": "x3",
         "yaxis": "y3"
        },
        {
         "alignmentgroup": "True",
         "hovertemplate": "<b>%{hovertext}</b><br><br>marked=unmarked<br>century_precision=%{y}<extra></extra>",
         "hovertext": [
          "RG Sharma",
          "MJ Guptill",
          "Babar Azam",
          "PR Stirling",
          "AJ Finch",
          "DA Warner",
          "Mohammad Rizwan",
          "JC Buttler",
          "Mohammad Hafeez",
          "EJG Morgan",
          "Shoaib Malik",
          "Shakib Al Hasan",
          "KL Rahul",
          "Q de Kock",
          "DA Miller",
          "GJ Maxwell",
          "BB McCullum",
          "Mahmudullah",
          "AD Hales",
          "Mohammad Shahzad",
          "JP Duminy",
          "CH Gayle",
          "LRPL Taylor",
          "KJ O'Brien",
          "A Balbirnie",
          "TM Dilshan",
          "DJ Malan",
          "Mohammad Nabi",
          "S Dhawan",
          "C Munro",
          "Najibullah Zadran",
          "Umar Akmal",
          "Tamim Iqbal",
          "SA Yadav",
          "AB de Villiers",
          "Liton Das",
          "MDKJ Perera",
          "MN Samuels",
          "MS Dhoni",
          "SK Raina",
          "KA Pollard",
          "RR Hendricks",
          "F du Plessis",
          "LMP Simmons",
          "JJ Roy",
          "N Pooran",
          "MP O'Dowd",
          "Ahmed Shehzad"
         ],
         "legendgroup": "unmarked",
         "marker": {
          "color": "red",
          "symbol": "circle"
         },
         "name": "unmarked",
         "notched": true,
         "offsetgroup": "unmarked",
         "showlegend": false,
         "type": "box",
         "xaxis": "x2",
         "y": [
          0.8787878787878788,
          0.6818181818181818,
          0.7878787878787878,
          0.8695652173913043,
          0.8095238095238095,
          0.68,
          0.7692307692307693,
          0.7142857142857143,
          0.7857142857142857,
          0.8571428571428571,
          0.8888888888888888,
          0.3333333333333333,
          0.875,
          0.6666666666666666,
          0.75,
          0.8461538461538461,
          0.8666666666666667,
          0.5,
          0.7692307692307693,
          0.9230769230769231,
          0.45454545454545453,
          0.8125,
          0.14285714285714285,
          0.4,
          0.875,
          0.6428571428571429,
          0.6875,
          0.8,
          0.9090909090909091,
          0.5714285714285714,
          0.875,
          0.75,
          0.625,
          0.8125,
          0.7,
          0.8,
          0.6153846153846154,
          0.8,
          0.5,
          0.6666666666666666,
          0.5,
          0.6923076923076923,
          0.2727272727272727,
          0.6666666666666666,
          0.625,
          0.2222222222222222,
          0.6,
          1
         ],
         "yaxis": "y2"
        }
       ],
       "layout": {
        "legend": {
         "itemsizing": "constant",
         "title": {
          "text": "marked"
         },
         "tracegroupgap": 0
        },
        "margin": {
         "t": 60
        },
        "template": {
         "data": {
          "bar": [
           {
            "error_x": {
             "color": "rgb(36,36,36)"
            },
            "error_y": {
             "color": "rgb(36,36,36)"
            },
            "marker": {
             "line": {
              "color": "white",
              "width": 0.5
             },
             "pattern": {
              "fillmode": "overlay",
              "size": 10,
              "solidity": 0.2
             }
            },
            "type": "bar"
           }
          ],
          "barpolar": [
           {
            "marker": {
             "line": {
              "color": "white",
              "width": 0.5
             },
             "pattern": {
              "fillmode": "overlay",
              "size": 10,
              "solidity": 0.2
             }
            },
            "type": "barpolar"
           }
          ],
          "carpet": [
           {
            "aaxis": {
             "endlinecolor": "rgb(36,36,36)",
             "gridcolor": "white",
             "linecolor": "white",
             "minorgridcolor": "white",
             "startlinecolor": "rgb(36,36,36)"
            },
            "baxis": {
             "endlinecolor": "rgb(36,36,36)",
             "gridcolor": "white",
             "linecolor": "white",
             "minorgridcolor": "white",
             "startlinecolor": "rgb(36,36,36)"
            },
            "type": "carpet"
           }
          ],
          "choropleth": [
           {
            "colorbar": {
             "outlinewidth": 1,
             "tickcolor": "rgb(36,36,36)",
             "ticks": "outside"
            },
            "type": "choropleth"
           }
          ],
          "contour": [
           {
            "colorbar": {
             "outlinewidth": 1,
             "tickcolor": "rgb(36,36,36)",
             "ticks": "outside"
            },
            "colorscale": [
             [
              0,
              "#440154"
             ],
             [
              0.1111111111111111,
              "#482878"
             ],
             [
              0.2222222222222222,
              "#3e4989"
             ],
             [
              0.3333333333333333,
              "#31688e"
             ],
             [
              0.4444444444444444,
              "#26828e"
             ],
             [
              0.5555555555555556,
              "#1f9e89"
             ],
             [
              0.6666666666666666,
              "#35b779"
             ],
             [
              0.7777777777777778,
              "#6ece58"
             ],
             [
              0.8888888888888888,
              "#b5de2b"
             ],
             [
              1,
              "#fde725"
             ]
            ],
            "type": "contour"
           }
          ],
          "contourcarpet": [
           {
            "colorbar": {
             "outlinewidth": 1,
             "tickcolor": "rgb(36,36,36)",
             "ticks": "outside"
            },
            "type": "contourcarpet"
           }
          ],
          "heatmap": [
           {
            "colorbar": {
             "outlinewidth": 1,
             "tickcolor": "rgb(36,36,36)",
             "ticks": "outside"
            },
            "colorscale": [
             [
              0,
              "#440154"
             ],
             [
              0.1111111111111111,
              "#482878"
             ],
             [
              0.2222222222222222,
              "#3e4989"
             ],
             [
              0.3333333333333333,
              "#31688e"
             ],
             [
              0.4444444444444444,
              "#26828e"
             ],
             [
              0.5555555555555556,
              "#1f9e89"
             ],
             [
              0.6666666666666666,
              "#35b779"
             ],
             [
              0.7777777777777778,
              "#6ece58"
             ],
             [
              0.8888888888888888,
              "#b5de2b"
             ],
             [
              1,
              "#fde725"
             ]
            ],
            "type": "heatmap"
           }
          ],
          "heatmapgl": [
           {
            "colorbar": {
             "outlinewidth": 1,
             "tickcolor": "rgb(36,36,36)",
             "ticks": "outside"
            },
            "colorscale": [
             [
              0,
              "#440154"
             ],
             [
              0.1111111111111111,
              "#482878"
             ],
             [
              0.2222222222222222,
              "#3e4989"
             ],
             [
              0.3333333333333333,
              "#31688e"
             ],
             [
              0.4444444444444444,
              "#26828e"
             ],
             [
              0.5555555555555556,
              "#1f9e89"
             ],
             [
              0.6666666666666666,
              "#35b779"
             ],
             [
              0.7777777777777778,
              "#6ece58"
             ],
             [
              0.8888888888888888,
              "#b5de2b"
             ],
             [
              1,
              "#fde725"
             ]
            ],
            "type": "heatmapgl"
           }
          ],
          "histogram": [
           {
            "marker": {
             "line": {
              "color": "white",
              "width": 0.6
             }
            },
            "type": "histogram"
           }
          ],
          "histogram2d": [
           {
            "colorbar": {
             "outlinewidth": 1,
             "tickcolor": "rgb(36,36,36)",
             "ticks": "outside"
            },
            "colorscale": [
             [
              0,
              "#440154"
             ],
             [
              0.1111111111111111,
              "#482878"
             ],
             [
              0.2222222222222222,
              "#3e4989"
             ],
             [
              0.3333333333333333,
              "#31688e"
             ],
             [
              0.4444444444444444,
              "#26828e"
             ],
             [
              0.5555555555555556,
              "#1f9e89"
             ],
             [
              0.6666666666666666,
              "#35b779"
             ],
             [
              0.7777777777777778,
              "#6ece58"
             ],
             [
              0.8888888888888888,
              "#b5de2b"
             ],
             [
              1,
              "#fde725"
             ]
            ],
            "type": "histogram2d"
           }
          ],
          "histogram2dcontour": [
           {
            "colorbar": {
             "outlinewidth": 1,
             "tickcolor": "rgb(36,36,36)",
             "ticks": "outside"
            },
            "colorscale": [
             [
              0,
              "#440154"
             ],
             [
              0.1111111111111111,
              "#482878"
             ],
             [
              0.2222222222222222,
              "#3e4989"
             ],
             [
              0.3333333333333333,
              "#31688e"
             ],
             [
              0.4444444444444444,
              "#26828e"
             ],
             [
              0.5555555555555556,
              "#1f9e89"
             ],
             [
              0.6666666666666666,
              "#35b779"
             ],
             [
              0.7777777777777778,
              "#6ece58"
             ],
             [
              0.8888888888888888,
              "#b5de2b"
             ],
             [
              1,
              "#fde725"
             ]
            ],
            "type": "histogram2dcontour"
           }
          ],
          "mesh3d": [
           {
            "colorbar": {
             "outlinewidth": 1,
             "tickcolor": "rgb(36,36,36)",
             "ticks": "outside"
            },
            "type": "mesh3d"
           }
          ],
          "parcoords": [
           {
            "line": {
             "colorbar": {
              "outlinewidth": 1,
              "tickcolor": "rgb(36,36,36)",
              "ticks": "outside"
             }
            },
            "type": "parcoords"
           }
          ],
          "pie": [
           {
            "automargin": true,
            "type": "pie"
           }
          ],
          "scatter": [
           {
            "fillpattern": {
             "fillmode": "overlay",
             "size": 10,
             "solidity": 0.2
            },
            "type": "scatter"
           }
          ],
          "scatter3d": [
           {
            "line": {
             "colorbar": {
              "outlinewidth": 1,
              "tickcolor": "rgb(36,36,36)",
              "ticks": "outside"
             }
            },
            "marker": {
             "colorbar": {
              "outlinewidth": 1,
              "tickcolor": "rgb(36,36,36)",
              "ticks": "outside"
             }
            },
            "type": "scatter3d"
           }
          ],
          "scattercarpet": [
           {
            "marker": {
             "colorbar": {
              "outlinewidth": 1,
              "tickcolor": "rgb(36,36,36)",
              "ticks": "outside"
             }
            },
            "type": "scattercarpet"
           }
          ],
          "scattergeo": [
           {
            "marker": {
             "colorbar": {
              "outlinewidth": 1,
              "tickcolor": "rgb(36,36,36)",
              "ticks": "outside"
             }
            },
            "type": "scattergeo"
           }
          ],
          "scattergl": [
           {
            "marker": {
             "colorbar": {
              "outlinewidth": 1,
              "tickcolor": "rgb(36,36,36)",
              "ticks": "outside"
             }
            },
            "type": "scattergl"
           }
          ],
          "scattermapbox": [
           {
            "marker": {
             "colorbar": {
              "outlinewidth": 1,
              "tickcolor": "rgb(36,36,36)",
              "ticks": "outside"
             }
            },
            "type": "scattermapbox"
           }
          ],
          "scatterpolar": [
           {
            "marker": {
             "colorbar": {
              "outlinewidth": 1,
              "tickcolor": "rgb(36,36,36)",
              "ticks": "outside"
             }
            },
            "type": "scatterpolar"
           }
          ],
          "scatterpolargl": [
           {
            "marker": {
             "colorbar": {
              "outlinewidth": 1,
              "tickcolor": "rgb(36,36,36)",
              "ticks": "outside"
             }
            },
            "type": "scatterpolargl"
           }
          ],
          "scatterternary": [
           {
            "marker": {
             "colorbar": {
              "outlinewidth": 1,
              "tickcolor": "rgb(36,36,36)",
              "ticks": "outside"
             }
            },
            "type": "scatterternary"
           }
          ],
          "surface": [
           {
            "colorbar": {
             "outlinewidth": 1,
             "tickcolor": "rgb(36,36,36)",
             "ticks": "outside"
            },
            "colorscale": [
             [
              0,
              "#440154"
             ],
             [
              0.1111111111111111,
              "#482878"
             ],
             [
              0.2222222222222222,
              "#3e4989"
             ],
             [
              0.3333333333333333,
              "#31688e"
             ],
             [
              0.4444444444444444,
              "#26828e"
             ],
             [
              0.5555555555555556,
              "#1f9e89"
             ],
             [
              0.6666666666666666,
              "#35b779"
             ],
             [
              0.7777777777777778,
              "#6ece58"
             ],
             [
              0.8888888888888888,
              "#b5de2b"
             ],
             [
              1,
              "#fde725"
             ]
            ],
            "type": "surface"
           }
          ],
          "table": [
           {
            "cells": {
             "fill": {
              "color": "rgb(237,237,237)"
             },
             "line": {
              "color": "white"
             }
            },
            "header": {
             "fill": {
              "color": "rgb(217,217,217)"
             },
             "line": {
              "color": "white"
             }
            },
            "type": "table"
           }
          ]
         },
         "layout": {
          "annotationdefaults": {
           "arrowhead": 0,
           "arrowwidth": 1
          },
          "autotypenumbers": "strict",
          "coloraxis": {
           "colorbar": {
            "outlinewidth": 1,
            "tickcolor": "rgb(36,36,36)",
            "ticks": "outside"
           }
          },
          "colorscale": {
           "diverging": [
            [
             0,
             "rgb(103,0,31)"
            ],
            [
             0.1,
             "rgb(178,24,43)"
            ],
            [
             0.2,
             "rgb(214,96,77)"
            ],
            [
             0.3,
             "rgb(244,165,130)"
            ],
            [
             0.4,
             "rgb(253,219,199)"
            ],
            [
             0.5,
             "rgb(247,247,247)"
            ],
            [
             0.6,
             "rgb(209,229,240)"
            ],
            [
             0.7,
             "rgb(146,197,222)"
            ],
            [
             0.8,
             "rgb(67,147,195)"
            ],
            [
             0.9,
             "rgb(33,102,172)"
            ],
            [
             1,
             "rgb(5,48,97)"
            ]
           ],
           "sequential": [
            [
             0,
             "#440154"
            ],
            [
             0.1111111111111111,
             "#482878"
            ],
            [
             0.2222222222222222,
             "#3e4989"
            ],
            [
             0.3333333333333333,
             "#31688e"
            ],
            [
             0.4444444444444444,
             "#26828e"
            ],
            [
             0.5555555555555556,
             "#1f9e89"
            ],
            [
             0.6666666666666666,
             "#35b779"
            ],
            [
             0.7777777777777778,
             "#6ece58"
            ],
            [
             0.8888888888888888,
             "#b5de2b"
            ],
            [
             1,
             "#fde725"
            ]
           ],
           "sequentialminus": [
            [
             0,
             "#440154"
            ],
            [
             0.1111111111111111,
             "#482878"
            ],
            [
             0.2222222222222222,
             "#3e4989"
            ],
            [
             0.3333333333333333,
             "#31688e"
            ],
            [
             0.4444444444444444,
             "#26828e"
            ],
            [
             0.5555555555555556,
             "#1f9e89"
            ],
            [
             0.6666666666666666,
             "#35b779"
            ],
            [
             0.7777777777777778,
             "#6ece58"
            ],
            [
             0.8888888888888888,
             "#b5de2b"
            ],
            [
             1,
             "#fde725"
            ]
           ]
          },
          "colorway": [
           "#1F77B4",
           "#FF7F0E",
           "#2CA02C",
           "#D62728",
           "#9467BD",
           "#8C564B",
           "#E377C2",
           "#7F7F7F",
           "#BCBD22",
           "#17BECF"
          ],
          "font": {
           "color": "rgb(36,36,36)"
          },
          "geo": {
           "bgcolor": "white",
           "lakecolor": "white",
           "landcolor": "white",
           "showlakes": true,
           "showland": true,
           "subunitcolor": "white"
          },
          "hoverlabel": {
           "align": "left"
          },
          "hovermode": "closest",
          "mapbox": {
           "style": "light"
          },
          "paper_bgcolor": "white",
          "plot_bgcolor": "white",
          "polar": {
           "angularaxis": {
            "gridcolor": "rgb(232,232,232)",
            "linecolor": "rgb(36,36,36)",
            "showgrid": false,
            "showline": true,
            "ticks": "outside"
           },
           "bgcolor": "white",
           "radialaxis": {
            "gridcolor": "rgb(232,232,232)",
            "linecolor": "rgb(36,36,36)",
            "showgrid": false,
            "showline": true,
            "ticks": "outside"
           }
          },
          "scene": {
           "xaxis": {
            "backgroundcolor": "white",
            "gridcolor": "rgb(232,232,232)",
            "gridwidth": 2,
            "linecolor": "rgb(36,36,36)",
            "showbackground": true,
            "showgrid": false,
            "showline": true,
            "ticks": "outside",
            "zeroline": false,
            "zerolinecolor": "rgb(36,36,36)"
           },
           "yaxis": {
            "backgroundcolor": "white",
            "gridcolor": "rgb(232,232,232)",
            "gridwidth": 2,
            "linecolor": "rgb(36,36,36)",
            "showbackground": true,
            "showgrid": false,
            "showline": true,
            "ticks": "outside",
            "zeroline": false,
            "zerolinecolor": "rgb(36,36,36)"
           },
           "zaxis": {
            "backgroundcolor": "white",
            "gridcolor": "rgb(232,232,232)",
            "gridwidth": 2,
            "linecolor": "rgb(36,36,36)",
            "showbackground": true,
            "showgrid": false,
            "showline": true,
            "ticks": "outside",
            "zeroline": false,
            "zerolinecolor": "rgb(36,36,36)"
           }
          },
          "shapedefaults": {
           "fillcolor": "black",
           "line": {
            "width": 0
           },
           "opacity": 0.3
          },
          "ternary": {
           "aaxis": {
            "gridcolor": "rgb(232,232,232)",
            "linecolor": "rgb(36,36,36)",
            "showgrid": false,
            "showline": true,
            "ticks": "outside"
           },
           "baxis": {
            "gridcolor": "rgb(232,232,232)",
            "linecolor": "rgb(36,36,36)",
            "showgrid": false,
            "showline": true,
            "ticks": "outside"
           },
           "bgcolor": "white",
           "caxis": {
            "gridcolor": "rgb(232,232,232)",
            "linecolor": "rgb(36,36,36)",
            "showgrid": false,
            "showline": true,
            "ticks": "outside"
           }
          },
          "title": {
           "x": 0.05
          },
          "xaxis": {
           "automargin": true,
           "gridcolor": "rgb(232,232,232)",
           "linecolor": "rgb(36,36,36)",
           "showgrid": false,
           "showline": true,
           "ticks": "outside",
           "title": {
            "standoff": 15
           },
           "zeroline": false,
           "zerolinecolor": "rgb(36,36,36)"
          },
          "yaxis": {
           "automargin": true,
           "gridcolor": "rgb(232,232,232)",
           "linecolor": "rgb(36,36,36)",
           "showgrid": false,
           "showline": true,
           "ticks": "outside",
           "title": {
            "standoff": 15
           },
           "zeroline": false,
           "zerolinecolor": "rgb(36,36,36)"
          }
         }
        },
        "xaxis": {
         "anchor": "y",
         "domain": [
          0,
          0.7363
         ],
         "title": {
          "text": "century_accuracy"
         }
        },
        "xaxis2": {
         "anchor": "y2",
         "domain": [
          0.7413,
          1
         ],
         "matches": "x2",
         "showline": false,
         "showticklabels": false,
         "ticks": ""
        },
        "xaxis3": {
         "anchor": "y3",
         "domain": [
          0,
          0.7363
         ],
         "matches": "x",
         "showticklabels": false
        },
        "xaxis4": {
         "anchor": "y4",
         "domain": [
          0.7413,
          1
         ],
         "matches": "x2",
         "showline": false,
         "showticklabels": false,
         "ticks": ""
        },
        "yaxis": {
         "anchor": "x",
         "domain": [
          0,
          0.7326
         ],
         "title": {
          "text": "century_precision"
         }
        },
        "yaxis2": {
         "anchor": "x2",
         "domain": [
          0,
          0.7326
         ],
         "matches": "y",
         "showticklabels": false
        },
        "yaxis3": {
         "anchor": "x3",
         "domain": [
          0.7426,
          1
         ],
         "matches": "y3",
         "showline": false,
         "showticklabels": false,
         "ticks": ""
        },
        "yaxis4": {
         "anchor": "x4",
         "domain": [
          0.7426,
          1
         ],
         "matches": "y3",
         "showline": false,
         "showticklabels": false,
         "ticks": ""
        }
       }
      }
     },
     "metadata": {},
     "output_type": "display_data"
    }
   ],
   "source": [
    "stats = PlayerPerformance(path=\"t20s_male_csv2\")\n",
    "plyer_stats=stats.player_luck_comparision(n=50)\n",
    "\n",
    "import plotly.express as px\n",
    "\n",
    "fig = px.scatter(\n",
    "    plyer_stats, \n",
    "    x=\"century_accuracy\", \n",
    "    y=\"century_precision\", \n",
    "    size=\"sample\", \n",
    "    hover_name=\"player_name\", \n",
    "    color=\"marked\",\n",
    "    color_discrete_map={'unmarked': 'red', 'marked': 'blue', \"fab_four\": \"green\"},\n",
    "    template=\"simple_white\",\n",
    "    marginal_x=\"box\",\n",
    "    marginal_y=\"box\",\n",
    "    )\n",
    "fig.show()"
   ]
  },
  {
   "cell_type": "code",
   "execution_count": 4,
   "metadata": {},
   "outputs": [
    {
     "data": {
      "text/html": [
       "<div>\n",
       "<style scoped>\n",
       "    .dataframe tbody tr th:only-of-type {\n",
       "        vertical-align: middle;\n",
       "    }\n",
       "\n",
       "    .dataframe tbody tr th {\n",
       "        vertical-align: top;\n",
       "    }\n",
       "\n",
       "    .dataframe thead th {\n",
       "        text-align: right;\n",
       "    }\n",
       "</style>\n",
       "<table border=\"1\" class=\"dataframe\">\n",
       "  <thead>\n",
       "    <tr style=\"text-align: right;\">\n",
       "      <th></th>\n",
       "      <th>player_name</th>\n",
       "      <th>p</th>\n",
       "      <th>chi2</th>\n",
       "      <th>correlation</th>\n",
       "      <th>sample</th>\n",
       "      <th>century_in_winning_cause</th>\n",
       "      <th>century_in_losing_cause</th>\n",
       "      <th>century_precision</th>\n",
       "      <th>century_accuracy</th>\n",
       "      <th>marked</th>\n",
       "    </tr>\n",
       "  </thead>\n",
       "  <tbody>\n",
       "    <tr>\n",
       "      <th>0</th>\n",
       "      <td>NaN</td>\n",
       "      <td>NaN</td>\n",
       "      <td>NaN</td>\n",
       "      <td>NaN</td>\n",
       "      <td>NaN</td>\n",
       "      <td>NaN</td>\n",
       "      <td>NaN</td>\n",
       "      <td>NaN</td>\n",
       "      <td>NaN</td>\n",
       "      <td>NaN</td>\n",
       "    </tr>\n",
       "    <tr>\n",
       "      <th>1</th>\n",
       "      <td>V Kohli</td>\n",
       "      <td>0.653477</td>\n",
       "      <td>0.201544</td>\n",
       "      <td>0.103505</td>\n",
       "      <td>109.0</td>\n",
       "      <td>27.0</td>\n",
       "      <td>11.0</td>\n",
       "      <td>0.710526</td>\n",
       "      <td>0.348624</td>\n",
       "      <td>fab_four</td>\n",
       "    </tr>\n",
       "    <tr>\n",
       "      <th>2</th>\n",
       "      <td>RG Sharma</td>\n",
       "      <td>0.009219</td>\n",
       "      <td>6.779949</td>\n",
       "      <td>0.271757</td>\n",
       "      <td>140.0</td>\n",
       "      <td>29.0</td>\n",
       "      <td>4.0</td>\n",
       "      <td>0.878788</td>\n",
       "      <td>0.235714</td>\n",
       "      <td>unmarked</td>\n",
       "    </tr>\n",
       "    <tr>\n",
       "      <th>3</th>\n",
       "      <td>MJ Guptill</td>\n",
       "      <td>0.217781</td>\n",
       "      <td>1.518935</td>\n",
       "      <td>0.214491</td>\n",
       "      <td>124.0</td>\n",
       "      <td>15.0</td>\n",
       "      <td>7.0</td>\n",
       "      <td>0.681818</td>\n",
       "      <td>0.177419</td>\n",
       "      <td>unmarked</td>\n",
       "    </tr>\n",
       "    <tr>\n",
       "      <th>4</th>\n",
       "      <td>Babar Azam</td>\n",
       "      <td>0.135439</td>\n",
       "      <td>2.229025</td>\n",
       "      <td>0.130401</td>\n",
       "      <td>98.0</td>\n",
       "      <td>26.0</td>\n",
       "      <td>7.0</td>\n",
       "      <td>0.787879</td>\n",
       "      <td>0.336735</td>\n",
       "      <td>unmarked</td>\n",
       "    </tr>\n",
       "    <tr>\n",
       "      <th>5</th>\n",
       "      <td>PR Stirling</td>\n",
       "      <td>0.000007</td>\n",
       "      <td>20.109616</td>\n",
       "      <td>0.368299</td>\n",
       "      <td>118.0</td>\n",
       "      <td>20.0</td>\n",
       "      <td>3.0</td>\n",
       "      <td>0.869565</td>\n",
       "      <td>0.194915</td>\n",
       "      <td>unmarked</td>\n",
       "    </tr>\n",
       "    <tr>\n",
       "      <th>6</th>\n",
       "      <td>AJ Finch</td>\n",
       "      <td>0.010954</td>\n",
       "      <td>6.472830</td>\n",
       "      <td>0.158857</td>\n",
       "      <td>104.0</td>\n",
       "      <td>17.0</td>\n",
       "      <td>4.0</td>\n",
       "      <td>0.809524</td>\n",
       "      <td>0.201923</td>\n",
       "      <td>unmarked</td>\n",
       "    </tr>\n",
       "    <tr>\n",
       "      <th>7</th>\n",
       "      <td>DA Warner</td>\n",
       "      <td>0.266212</td>\n",
       "      <td>1.236160</td>\n",
       "      <td>0.223232</td>\n",
       "      <td>101.0</td>\n",
       "      <td>17.0</td>\n",
       "      <td>8.0</td>\n",
       "      <td>0.680000</td>\n",
       "      <td>0.247525</td>\n",
       "      <td>unmarked</td>\n",
       "    </tr>\n",
       "    <tr>\n",
       "      <th>8</th>\n",
       "      <td>Mohammad Rizwan</td>\n",
       "      <td>0.065738</td>\n",
       "      <td>3.386351</td>\n",
       "      <td>0.354680</td>\n",
       "      <td>74.0</td>\n",
       "      <td>20.0</td>\n",
       "      <td>6.0</td>\n",
       "      <td>0.769231</td>\n",
       "      <td>0.351351</td>\n",
       "      <td>unmarked</td>\n",
       "    </tr>\n",
       "    <tr>\n",
       "      <th>9</th>\n",
       "      <td>JC Buttler</td>\n",
       "      <td>0.097712</td>\n",
       "      <td>2.742500</td>\n",
       "      <td>0.209865</td>\n",
       "      <td>98.0</td>\n",
       "      <td>15.0</td>\n",
       "      <td>6.0</td>\n",
       "      <td>0.714286</td>\n",
       "      <td>0.214286</td>\n",
       "      <td>unmarked</td>\n",
       "    </tr>\n",
       "    <tr>\n",
       "      <th>10</th>\n",
       "      <td>Mohammad Hafeez</td>\n",
       "      <td>0.236048</td>\n",
       "      <td>1.404041</td>\n",
       "      <td>0.290723</td>\n",
       "      <td>109.0</td>\n",
       "      <td>11.0</td>\n",
       "      <td>3.0</td>\n",
       "      <td>0.785714</td>\n",
       "      <td>0.128440</td>\n",
       "      <td>unmarked</td>\n",
       "    </tr>\n",
       "    <tr>\n",
       "      <th>11</th>\n",
       "      <td>KS Williamson</td>\n",
       "      <td>1.000000</td>\n",
       "      <td>0.000000</td>\n",
       "      <td>0.038525</td>\n",
       "      <td>87.0</td>\n",
       "      <td>8.0</td>\n",
       "      <td>9.0</td>\n",
       "      <td>0.470588</td>\n",
       "      <td>0.195402</td>\n",
       "      <td>fab_four</td>\n",
       "    </tr>\n",
       "    <tr>\n",
       "      <th>12</th>\n",
       "      <td>EJG Morgan</td>\n",
       "      <td>0.044832</td>\n",
       "      <td>4.024960</td>\n",
       "      <td>0.294264</td>\n",
       "      <td>108.0</td>\n",
       "      <td>12.0</td>\n",
       "      <td>2.0</td>\n",
       "      <td>0.857143</td>\n",
       "      <td>0.129630</td>\n",
       "      <td>unmarked</td>\n",
       "    </tr>\n",
       "    <tr>\n",
       "      <th>13</th>\n",
       "      <td>Shoaib Malik</td>\n",
       "      <td>0.326072</td>\n",
       "      <td>0.964436</td>\n",
       "      <td>0.126771</td>\n",
       "      <td>109.0</td>\n",
       "      <td>8.0</td>\n",
       "      <td>1.0</td>\n",
       "      <td>0.888889</td>\n",
       "      <td>0.082569</td>\n",
       "      <td>unmarked</td>\n",
       "    </tr>\n",
       "    <tr>\n",
       "      <th>14</th>\n",
       "      <td>Shakib Al Hasan</td>\n",
       "      <td>0.820300</td>\n",
       "      <td>0.051601</td>\n",
       "      <td>0.127976</td>\n",
       "      <td>111.0</td>\n",
       "      <td>4.0</td>\n",
       "      <td>8.0</td>\n",
       "      <td>0.333333</td>\n",
       "      <td>0.108108</td>\n",
       "      <td>unmarked</td>\n",
       "    </tr>\n",
       "    <tr>\n",
       "      <th>15</th>\n",
       "      <td>KL Rahul</td>\n",
       "      <td>0.123779</td>\n",
       "      <td>2.368843</td>\n",
       "      <td>0.258706</td>\n",
       "      <td>70.0</td>\n",
       "      <td>21.0</td>\n",
       "      <td>3.0</td>\n",
       "      <td>0.875000</td>\n",
       "      <td>0.342857</td>\n",
       "      <td>unmarked</td>\n",
       "    </tr>\n",
       "    <tr>\n",
       "      <th>16</th>\n",
       "      <td>Q de Kock</td>\n",
       "      <td>0.655996</td>\n",
       "      <td>0.198424</td>\n",
       "      <td>0.058725</td>\n",
       "      <td>79.0</td>\n",
       "      <td>10.0</td>\n",
       "      <td>5.0</td>\n",
       "      <td>0.666667</td>\n",
       "      <td>0.189873</td>\n",
       "      <td>unmarked</td>\n",
       "    </tr>\n",
       "    <tr>\n",
       "      <th>17</th>\n",
       "      <td>DA Miller</td>\n",
       "      <td>0.452625</td>\n",
       "      <td>0.564070</td>\n",
       "      <td>0.077559</td>\n",
       "      <td>98.0</td>\n",
       "      <td>6.0</td>\n",
       "      <td>2.0</td>\n",
       "      <td>0.750000</td>\n",
       "      <td>0.081633</td>\n",
       "      <td>unmarked</td>\n",
       "    </tr>\n",
       "    <tr>\n",
       "      <th>18</th>\n",
       "      <td>GJ Maxwell</td>\n",
       "      <td>0.043710</td>\n",
       "      <td>4.067719</td>\n",
       "      <td>0.207657</td>\n",
       "      <td>89.0</td>\n",
       "      <td>11.0</td>\n",
       "      <td>2.0</td>\n",
       "      <td>0.846154</td>\n",
       "      <td>0.146067</td>\n",
       "      <td>unmarked</td>\n",
       "    </tr>\n",
       "    <tr>\n",
       "      <th>19</th>\n",
       "      <td>BB McCullum</td>\n",
       "      <td>0.001138</td>\n",
       "      <td>10.588775</td>\n",
       "      <td>0.378549</td>\n",
       "      <td>74.0</td>\n",
       "      <td>13.0</td>\n",
       "      <td>2.0</td>\n",
       "      <td>0.866667</td>\n",
       "      <td>0.202703</td>\n",
       "      <td>unmarked</td>\n",
       "    </tr>\n",
       "    <tr>\n",
       "      <th>20</th>\n",
       "      <td>Mahmudullah</td>\n",
       "      <td>0.594267</td>\n",
       "      <td>0.283730</td>\n",
       "      <td>0.125709</td>\n",
       "      <td>110.0</td>\n",
       "      <td>3.0</td>\n",
       "      <td>3.0</td>\n",
       "      <td>0.500000</td>\n",
       "      <td>0.054545</td>\n",
       "      <td>unmarked</td>\n",
       "    </tr>\n",
       "    <tr>\n",
       "      <th>21</th>\n",
       "      <td>AD Hales</td>\n",
       "      <td>0.158003</td>\n",
       "      <td>1.993235</td>\n",
       "      <td>0.220366</td>\n",
       "      <td>74.0</td>\n",
       "      <td>10.0</td>\n",
       "      <td>3.0</td>\n",
       "      <td>0.769231</td>\n",
       "      <td>0.175676</td>\n",
       "      <td>unmarked</td>\n",
       "    </tr>\n",
       "    <tr>\n",
       "      <th>22</th>\n",
       "      <td>Mohammad Shahzad</td>\n",
       "      <td>0.093028</td>\n",
       "      <td>2.821181</td>\n",
       "      <td>0.402236</td>\n",
       "      <td>65.0</td>\n",
       "      <td>12.0</td>\n",
       "      <td>1.0</td>\n",
       "      <td>0.923077</td>\n",
       "      <td>0.200000</td>\n",
       "      <td>unmarked</td>\n",
       "    </tr>\n",
       "    <tr>\n",
       "      <th>23</th>\n",
       "      <td>JP Duminy</td>\n",
       "      <td>0.295014</td>\n",
       "      <td>1.096598</td>\n",
       "      <td>-0.150171</td>\n",
       "      <td>75.0</td>\n",
       "      <td>5.0</td>\n",
       "      <td>6.0</td>\n",
       "      <td>0.454545</td>\n",
       "      <td>0.146667</td>\n",
       "      <td>unmarked</td>\n",
       "    </tr>\n",
       "    <tr>\n",
       "      <th>24</th>\n",
       "      <td>CH Gayle</td>\n",
       "      <td>0.033322</td>\n",
       "      <td>4.529141</td>\n",
       "      <td>0.316273</td>\n",
       "      <td>77.0</td>\n",
       "      <td>13.0</td>\n",
       "      <td>3.0</td>\n",
       "      <td>0.812500</td>\n",
       "      <td>0.207792</td>\n",
       "      <td>unmarked</td>\n",
       "    </tr>\n",
       "    <tr>\n",
       "      <th>25</th>\n",
       "      <td>LRPL Taylor</td>\n",
       "      <td>0.193639</td>\n",
       "      <td>1.689708</td>\n",
       "      <td>0.036205</td>\n",
       "      <td>100.0</td>\n",
       "      <td>1.0</td>\n",
       "      <td>6.0</td>\n",
       "      <td>0.142857</td>\n",
       "      <td>0.070000</td>\n",
       "      <td>unmarked</td>\n",
       "    </tr>\n",
       "    <tr>\n",
       "      <th>26</th>\n",
       "      <td>KJ O'Brien</td>\n",
       "      <td>1.000000</td>\n",
       "      <td>0.000000</td>\n",
       "      <td>0.214820</td>\n",
       "      <td>94.0</td>\n",
       "      <td>2.0</td>\n",
       "      <td>3.0</td>\n",
       "      <td>0.400000</td>\n",
       "      <td>0.053191</td>\n",
       "      <td>unmarked</td>\n",
       "    </tr>\n",
       "    <tr>\n",
       "      <th>27</th>\n",
       "      <td>A Balbirnie</td>\n",
       "      <td>0.015532</td>\n",
       "      <td>5.855085</td>\n",
       "      <td>0.408139</td>\n",
       "      <td>85.0</td>\n",
       "      <td>7.0</td>\n",
       "      <td>1.0</td>\n",
       "      <td>0.875000</td>\n",
       "      <td>0.094118</td>\n",
       "      <td>unmarked</td>\n",
       "    </tr>\n",
       "    <tr>\n",
       "      <th>28</th>\n",
       "      <td>TM Dilshan</td>\n",
       "      <td>0.535848</td>\n",
       "      <td>0.383290</td>\n",
       "      <td>0.276070</td>\n",
       "      <td>77.0</td>\n",
       "      <td>9.0</td>\n",
       "      <td>5.0</td>\n",
       "      <td>0.642857</td>\n",
       "      <td>0.181818</td>\n",
       "      <td>unmarked</td>\n",
       "    </tr>\n",
       "    <tr>\n",
       "      <th>29</th>\n",
       "      <td>DJ Malan</td>\n",
       "      <td>0.417241</td>\n",
       "      <td>0.658073</td>\n",
       "      <td>0.220101</td>\n",
       "      <td>56.0</td>\n",
       "      <td>11.0</td>\n",
       "      <td>5.0</td>\n",
       "      <td>0.687500</td>\n",
       "      <td>0.285714</td>\n",
       "      <td>unmarked</td>\n",
       "    </tr>\n",
       "    <tr>\n",
       "      <th>30</th>\n",
       "      <td>Mohammad Nabi</td>\n",
       "      <td>0.626583</td>\n",
       "      <td>0.236723</td>\n",
       "      <td>0.328758</td>\n",
       "      <td>99.0</td>\n",
       "      <td>4.0</td>\n",
       "      <td>1.0</td>\n",
       "      <td>0.800000</td>\n",
       "      <td>0.050505</td>\n",
       "      <td>unmarked</td>\n",
       "    </tr>\n",
       "    <tr>\n",
       "      <th>31</th>\n",
       "      <td>S Dhawan</td>\n",
       "      <td>0.156118</td>\n",
       "      <td>2.011429</td>\n",
       "      <td>0.189306</td>\n",
       "      <td>66.0</td>\n",
       "      <td>10.0</td>\n",
       "      <td>1.0</td>\n",
       "      <td>0.909091</td>\n",
       "      <td>0.166667</td>\n",
       "      <td>unmarked</td>\n",
       "    </tr>\n",
       "    <tr>\n",
       "      <th>32</th>\n",
       "      <td>C Munro</td>\n",
       "      <td>0.762369</td>\n",
       "      <td>0.091429</td>\n",
       "      <td>0.141674</td>\n",
       "      <td>64.0</td>\n",
       "      <td>8.0</td>\n",
       "      <td>6.0</td>\n",
       "      <td>0.571429</td>\n",
       "      <td>0.218750</td>\n",
       "      <td>unmarked</td>\n",
       "    </tr>\n",
       "    <tr>\n",
       "      <th>33</th>\n",
       "      <td>Najibullah Zadran</td>\n",
       "      <td>0.175685</td>\n",
       "      <td>1.833749</td>\n",
       "      <td>0.228713</td>\n",
       "      <td>85.0</td>\n",
       "      <td>7.0</td>\n",
       "      <td>1.0</td>\n",
       "      <td>0.875000</td>\n",
       "      <td>0.094118</td>\n",
       "      <td>unmarked</td>\n",
       "    </tr>\n",
       "    <tr>\n",
       "      <th>34</th>\n",
       "      <td>Umar Akmal</td>\n",
       "      <td>0.248443</td>\n",
       "      <td>1.332035</td>\n",
       "      <td>0.214831</td>\n",
       "      <td>81.0</td>\n",
       "      <td>6.0</td>\n",
       "      <td>2.0</td>\n",
       "      <td>0.750000</td>\n",
       "      <td>0.098765</td>\n",
       "      <td>unmarked</td>\n",
       "    </tr>\n",
       "    <tr>\n",
       "      <th>35</th>\n",
       "      <td>Tamim Iqbal</td>\n",
       "      <td>0.154200</td>\n",
       "      <td>2.030201</td>\n",
       "      <td>0.358935</td>\n",
       "      <td>71.0</td>\n",
       "      <td>5.0</td>\n",
       "      <td>3.0</td>\n",
       "      <td>0.625000</td>\n",
       "      <td>0.112676</td>\n",
       "      <td>unmarked</td>\n",
       "    </tr>\n",
       "    <tr>\n",
       "      <th>36</th>\n",
       "      <td>SA Yadav</td>\n",
       "      <td>0.634712</td>\n",
       "      <td>0.225725</td>\n",
       "      <td>0.006526</td>\n",
       "      <td>46.0</td>\n",
       "      <td>13.0</td>\n",
       "      <td>3.0</td>\n",
       "      <td>0.812500</td>\n",
       "      <td>0.347826</td>\n",
       "      <td>unmarked</td>\n",
       "    </tr>\n",
       "    <tr>\n",
       "      <th>37</th>\n",
       "      <td>AB de Villiers</td>\n",
       "      <td>0.842286</td>\n",
       "      <td>0.039589</td>\n",
       "      <td>0.180929</td>\n",
       "      <td>74.0</td>\n",
       "      <td>7.0</td>\n",
       "      <td>3.0</td>\n",
       "      <td>0.700000</td>\n",
       "      <td>0.135135</td>\n",
       "      <td>unmarked</td>\n",
       "    </tr>\n",
       "    <tr>\n",
       "      <th>38</th>\n",
       "      <td>Liton Das</td>\n",
       "      <td>0.036126</td>\n",
       "      <td>4.391129</td>\n",
       "      <td>0.254065</td>\n",
       "      <td>72.0</td>\n",
       "      <td>8.0</td>\n",
       "      <td>2.0</td>\n",
       "      <td>0.800000</td>\n",
       "      <td>0.138889</td>\n",
       "      <td>unmarked</td>\n",
       "    </tr>\n",
       "    <tr>\n",
       "      <th>39</th>\n",
       "      <td>MDKJ Perera</td>\n",
       "      <td>0.225027</td>\n",
       "      <td>1.472019</td>\n",
       "      <td>0.133406</td>\n",
       "      <td>63.0</td>\n",
       "      <td>8.0</td>\n",
       "      <td>5.0</td>\n",
       "      <td>0.615385</td>\n",
       "      <td>0.206349</td>\n",
       "      <td>unmarked</td>\n",
       "    </tr>\n",
       "    <tr>\n",
       "      <th>40</th>\n",
       "      <td>MN Samuels</td>\n",
       "      <td>0.158462</td>\n",
       "      <td>1.988839</td>\n",
       "      <td>0.241989</td>\n",
       "      <td>66.0</td>\n",
       "      <td>8.0</td>\n",
       "      <td>2.0</td>\n",
       "      <td>0.800000</td>\n",
       "      <td>0.151515</td>\n",
       "      <td>unmarked</td>\n",
       "    </tr>\n",
       "    <tr>\n",
       "      <th>41</th>\n",
       "      <td>MS Dhoni</td>\n",
       "      <td>1.000000</td>\n",
       "      <td>0.000000</td>\n",
       "      <td>-0.126467</td>\n",
       "      <td>84.0</td>\n",
       "      <td>1.0</td>\n",
       "      <td>1.0</td>\n",
       "      <td>0.500000</td>\n",
       "      <td>0.023810</td>\n",
       "      <td>unmarked</td>\n",
       "    </tr>\n",
       "    <tr>\n",
       "      <th>42</th>\n",
       "      <td>SK Raina</td>\n",
       "      <td>1.000000</td>\n",
       "      <td>0.000000</td>\n",
       "      <td>0.100870</td>\n",
       "      <td>65.0</td>\n",
       "      <td>4.0</td>\n",
       "      <td>2.0</td>\n",
       "      <td>0.666667</td>\n",
       "      <td>0.092308</td>\n",
       "      <td>unmarked</td>\n",
       "    </tr>\n",
       "    <tr>\n",
       "      <th>43</th>\n",
       "      <td>KA Pollard</td>\n",
       "      <td>0.931117</td>\n",
       "      <td>0.007472</td>\n",
       "      <td>0.059775</td>\n",
       "      <td>85.0</td>\n",
       "      <td>3.0</td>\n",
       "      <td>3.0</td>\n",
       "      <td>0.500000</td>\n",
       "      <td>0.070588</td>\n",
       "      <td>unmarked</td>\n",
       "    </tr>\n",
       "    <tr>\n",
       "      <th>44</th>\n",
       "      <td>RR Hendricks</td>\n",
       "      <td>0.577628</td>\n",
       "      <td>0.310085</td>\n",
       "      <td>0.189088</td>\n",
       "      <td>51.0</td>\n",
       "      <td>9.0</td>\n",
       "      <td>4.0</td>\n",
       "      <td>0.692308</td>\n",
       "      <td>0.254902</td>\n",
       "      <td>unmarked</td>\n",
       "    </tr>\n",
       "    <tr>\n",
       "      <th>45</th>\n",
       "      <td>F du Plessis</td>\n",
       "      <td>0.042185</td>\n",
       "      <td>4.127764</td>\n",
       "      <td>-0.203751</td>\n",
       "      <td>48.0</td>\n",
       "      <td>3.0</td>\n",
       "      <td>8.0</td>\n",
       "      <td>0.272727</td>\n",
       "      <td>0.229167</td>\n",
       "      <td>unmarked</td>\n",
       "    </tr>\n",
       "    <tr>\n",
       "      <th>46</th>\n",
       "      <td>LMP Simmons</td>\n",
       "      <td>0.566830</td>\n",
       "      <td>0.328015</td>\n",
       "      <td>0.231778</td>\n",
       "      <td>67.0</td>\n",
       "      <td>6.0</td>\n",
       "      <td>3.0</td>\n",
       "      <td>0.666667</td>\n",
       "      <td>0.134328</td>\n",
       "      <td>unmarked</td>\n",
       "    </tr>\n",
       "    <tr>\n",
       "      <th>47</th>\n",
       "      <td>JJ Roy</td>\n",
       "      <td>1.000000</td>\n",
       "      <td>0.000000</td>\n",
       "      <td>0.098290</td>\n",
       "      <td>65.0</td>\n",
       "      <td>5.0</td>\n",
       "      <td>3.0</td>\n",
       "      <td>0.625000</td>\n",
       "      <td>0.123077</td>\n",
       "      <td>unmarked</td>\n",
       "    </tr>\n",
       "    <tr>\n",
       "      <th>48</th>\n",
       "      <td>N Pooran</td>\n",
       "      <td>0.656432</td>\n",
       "      <td>0.197887</td>\n",
       "      <td>0.116486</td>\n",
       "      <td>67.0</td>\n",
       "      <td>2.0</td>\n",
       "      <td>7.0</td>\n",
       "      <td>0.222222</td>\n",
       "      <td>0.134328</td>\n",
       "      <td>unmarked</td>\n",
       "    </tr>\n",
       "    <tr>\n",
       "      <th>49</th>\n",
       "      <td>MP O'Dowd</td>\n",
       "      <td>0.873553</td>\n",
       "      <td>0.025328</td>\n",
       "      <td>0.141550</td>\n",
       "      <td>55.0</td>\n",
       "      <td>6.0</td>\n",
       "      <td>4.0</td>\n",
       "      <td>0.600000</td>\n",
       "      <td>0.181818</td>\n",
       "      <td>unmarked</td>\n",
       "    </tr>\n",
       "    <tr>\n",
       "      <th>50</th>\n",
       "      <td>Ahmed Shehzad</td>\n",
       "      <td>0.017958</td>\n",
       "      <td>5.600233</td>\n",
       "      <td>0.363108</td>\n",
       "      <td>60.0</td>\n",
       "      <td>8.0</td>\n",
       "      <td>0.0</td>\n",
       "      <td>1.000000</td>\n",
       "      <td>0.133333</td>\n",
       "      <td>unmarked</td>\n",
       "    </tr>\n",
       "  </tbody>\n",
       "</table>\n",
       "</div>"
      ],
      "text/plain": [
       "          player_name         p       chi2  correlation  sample  \\\n",
       "0                 NaN       NaN        NaN          NaN     NaN   \n",
       "1             V Kohli  0.653477   0.201544     0.103505   109.0   \n",
       "2           RG Sharma  0.009219   6.779949     0.271757   140.0   \n",
       "3          MJ Guptill  0.217781   1.518935     0.214491   124.0   \n",
       "4          Babar Azam  0.135439   2.229025     0.130401    98.0   \n",
       "5         PR Stirling  0.000007  20.109616     0.368299   118.0   \n",
       "6            AJ Finch  0.010954   6.472830     0.158857   104.0   \n",
       "7           DA Warner  0.266212   1.236160     0.223232   101.0   \n",
       "8     Mohammad Rizwan  0.065738   3.386351     0.354680    74.0   \n",
       "9          JC Buttler  0.097712   2.742500     0.209865    98.0   \n",
       "10    Mohammad Hafeez  0.236048   1.404041     0.290723   109.0   \n",
       "11      KS Williamson  1.000000   0.000000     0.038525    87.0   \n",
       "12         EJG Morgan  0.044832   4.024960     0.294264   108.0   \n",
       "13       Shoaib Malik  0.326072   0.964436     0.126771   109.0   \n",
       "14    Shakib Al Hasan  0.820300   0.051601     0.127976   111.0   \n",
       "15           KL Rahul  0.123779   2.368843     0.258706    70.0   \n",
       "16          Q de Kock  0.655996   0.198424     0.058725    79.0   \n",
       "17          DA Miller  0.452625   0.564070     0.077559    98.0   \n",
       "18         GJ Maxwell  0.043710   4.067719     0.207657    89.0   \n",
       "19        BB McCullum  0.001138  10.588775     0.378549    74.0   \n",
       "20        Mahmudullah  0.594267   0.283730     0.125709   110.0   \n",
       "21           AD Hales  0.158003   1.993235     0.220366    74.0   \n",
       "22   Mohammad Shahzad  0.093028   2.821181     0.402236    65.0   \n",
       "23          JP Duminy  0.295014   1.096598    -0.150171    75.0   \n",
       "24           CH Gayle  0.033322   4.529141     0.316273    77.0   \n",
       "25        LRPL Taylor  0.193639   1.689708     0.036205   100.0   \n",
       "26         KJ O'Brien  1.000000   0.000000     0.214820    94.0   \n",
       "27        A Balbirnie  0.015532   5.855085     0.408139    85.0   \n",
       "28         TM Dilshan  0.535848   0.383290     0.276070    77.0   \n",
       "29           DJ Malan  0.417241   0.658073     0.220101    56.0   \n",
       "30      Mohammad Nabi  0.626583   0.236723     0.328758    99.0   \n",
       "31           S Dhawan  0.156118   2.011429     0.189306    66.0   \n",
       "32            C Munro  0.762369   0.091429     0.141674    64.0   \n",
       "33  Najibullah Zadran  0.175685   1.833749     0.228713    85.0   \n",
       "34         Umar Akmal  0.248443   1.332035     0.214831    81.0   \n",
       "35        Tamim Iqbal  0.154200   2.030201     0.358935    71.0   \n",
       "36           SA Yadav  0.634712   0.225725     0.006526    46.0   \n",
       "37     AB de Villiers  0.842286   0.039589     0.180929    74.0   \n",
       "38          Liton Das  0.036126   4.391129     0.254065    72.0   \n",
       "39        MDKJ Perera  0.225027   1.472019     0.133406    63.0   \n",
       "40         MN Samuels  0.158462   1.988839     0.241989    66.0   \n",
       "41           MS Dhoni  1.000000   0.000000    -0.126467    84.0   \n",
       "42           SK Raina  1.000000   0.000000     0.100870    65.0   \n",
       "43         KA Pollard  0.931117   0.007472     0.059775    85.0   \n",
       "44       RR Hendricks  0.577628   0.310085     0.189088    51.0   \n",
       "45       F du Plessis  0.042185   4.127764    -0.203751    48.0   \n",
       "46        LMP Simmons  0.566830   0.328015     0.231778    67.0   \n",
       "47             JJ Roy  1.000000   0.000000     0.098290    65.0   \n",
       "48           N Pooran  0.656432   0.197887     0.116486    67.0   \n",
       "49          MP O'Dowd  0.873553   0.025328     0.141550    55.0   \n",
       "50      Ahmed Shehzad  0.017958   5.600233     0.363108    60.0   \n",
       "\n",
       "    century_in_winning_cause  century_in_losing_cause  century_precision  \\\n",
       "0                        NaN                      NaN                NaN   \n",
       "1                       27.0                     11.0           0.710526   \n",
       "2                       29.0                      4.0           0.878788   \n",
       "3                       15.0                      7.0           0.681818   \n",
       "4                       26.0                      7.0           0.787879   \n",
       "5                       20.0                      3.0           0.869565   \n",
       "6                       17.0                      4.0           0.809524   \n",
       "7                       17.0                      8.0           0.680000   \n",
       "8                       20.0                      6.0           0.769231   \n",
       "9                       15.0                      6.0           0.714286   \n",
       "10                      11.0                      3.0           0.785714   \n",
       "11                       8.0                      9.0           0.470588   \n",
       "12                      12.0                      2.0           0.857143   \n",
       "13                       8.0                      1.0           0.888889   \n",
       "14                       4.0                      8.0           0.333333   \n",
       "15                      21.0                      3.0           0.875000   \n",
       "16                      10.0                      5.0           0.666667   \n",
       "17                       6.0                      2.0           0.750000   \n",
       "18                      11.0                      2.0           0.846154   \n",
       "19                      13.0                      2.0           0.866667   \n",
       "20                       3.0                      3.0           0.500000   \n",
       "21                      10.0                      3.0           0.769231   \n",
       "22                      12.0                      1.0           0.923077   \n",
       "23                       5.0                      6.0           0.454545   \n",
       "24                      13.0                      3.0           0.812500   \n",
       "25                       1.0                      6.0           0.142857   \n",
       "26                       2.0                      3.0           0.400000   \n",
       "27                       7.0                      1.0           0.875000   \n",
       "28                       9.0                      5.0           0.642857   \n",
       "29                      11.0                      5.0           0.687500   \n",
       "30                       4.0                      1.0           0.800000   \n",
       "31                      10.0                      1.0           0.909091   \n",
       "32                       8.0                      6.0           0.571429   \n",
       "33                       7.0                      1.0           0.875000   \n",
       "34                       6.0                      2.0           0.750000   \n",
       "35                       5.0                      3.0           0.625000   \n",
       "36                      13.0                      3.0           0.812500   \n",
       "37                       7.0                      3.0           0.700000   \n",
       "38                       8.0                      2.0           0.800000   \n",
       "39                       8.0                      5.0           0.615385   \n",
       "40                       8.0                      2.0           0.800000   \n",
       "41                       1.0                      1.0           0.500000   \n",
       "42                       4.0                      2.0           0.666667   \n",
       "43                       3.0                      3.0           0.500000   \n",
       "44                       9.0                      4.0           0.692308   \n",
       "45                       3.0                      8.0           0.272727   \n",
       "46                       6.0                      3.0           0.666667   \n",
       "47                       5.0                      3.0           0.625000   \n",
       "48                       2.0                      7.0           0.222222   \n",
       "49                       6.0                      4.0           0.600000   \n",
       "50                       8.0                      0.0           1.000000   \n",
       "\n",
       "    century_accuracy    marked  \n",
       "0                NaN       NaN  \n",
       "1           0.348624  fab_four  \n",
       "2           0.235714  unmarked  \n",
       "3           0.177419  unmarked  \n",
       "4           0.336735  unmarked  \n",
       "5           0.194915  unmarked  \n",
       "6           0.201923  unmarked  \n",
       "7           0.247525  unmarked  \n",
       "8           0.351351  unmarked  \n",
       "9           0.214286  unmarked  \n",
       "10          0.128440  unmarked  \n",
       "11          0.195402  fab_four  \n",
       "12          0.129630  unmarked  \n",
       "13          0.082569  unmarked  \n",
       "14          0.108108  unmarked  \n",
       "15          0.342857  unmarked  \n",
       "16          0.189873  unmarked  \n",
       "17          0.081633  unmarked  \n",
       "18          0.146067  unmarked  \n",
       "19          0.202703  unmarked  \n",
       "20          0.054545  unmarked  \n",
       "21          0.175676  unmarked  \n",
       "22          0.200000  unmarked  \n",
       "23          0.146667  unmarked  \n",
       "24          0.207792  unmarked  \n",
       "25          0.070000  unmarked  \n",
       "26          0.053191  unmarked  \n",
       "27          0.094118  unmarked  \n",
       "28          0.181818  unmarked  \n",
       "29          0.285714  unmarked  \n",
       "30          0.050505  unmarked  \n",
       "31          0.166667  unmarked  \n",
       "32          0.218750  unmarked  \n",
       "33          0.094118  unmarked  \n",
       "34          0.098765  unmarked  \n",
       "35          0.112676  unmarked  \n",
       "36          0.347826  unmarked  \n",
       "37          0.135135  unmarked  \n",
       "38          0.138889  unmarked  \n",
       "39          0.206349  unmarked  \n",
       "40          0.151515  unmarked  \n",
       "41          0.023810  unmarked  \n",
       "42          0.092308  unmarked  \n",
       "43          0.070588  unmarked  \n",
       "44          0.254902  unmarked  \n",
       "45          0.229167  unmarked  \n",
       "46          0.134328  unmarked  \n",
       "47          0.123077  unmarked  \n",
       "48          0.134328  unmarked  \n",
       "49          0.181818  unmarked  \n",
       "50          0.133333  unmarked  "
      ]
     },
     "execution_count": 4,
     "metadata": {},
     "output_type": "execute_result"
    }
   ],
   "source": [
    "plyer_stats"
   ]
  },
  {
   "cell_type": "code",
   "execution_count": null,
   "metadata": {},
   "outputs": [],
   "source": []
  }
 ],
 "metadata": {
  "kernelspec": {
   "display_name": "cricket-oxTTFSYt-py3.11",
   "language": "python",
   "name": "python3"
  },
  "language_info": {
   "codemirror_mode": {
    "name": "ipython",
    "version": 3
   },
   "file_extension": ".py",
   "mimetype": "text/x-python",
   "name": "python",
   "nbconvert_exporter": "python",
   "pygments_lexer": "ipython3",
   "version": "3.11.4"
  },
  "orig_nbformat": 4
 },
 "nbformat": 4,
 "nbformat_minor": 2
}
